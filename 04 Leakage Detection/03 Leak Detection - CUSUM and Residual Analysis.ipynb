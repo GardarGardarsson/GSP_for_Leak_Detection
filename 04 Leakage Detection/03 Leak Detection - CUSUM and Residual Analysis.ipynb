{
 "cells": [
  {
   "cell_type": "markdown",
   "id": "7ea40f6e",
   "metadata": {},
   "source": [
    "<a id='toc'></a>\n",
    "# Table of Contents:\n",
    "1. [Make Graph](#makegraph)\n",
    "2. [Read in Yearly Prediction and Scale Back to Original Interval](#readscale)\n",
    "3. [Exploratory Data Analysis](#eda) <br>\n",
    "    3.1 [Data Wrangling](#wrangling) <br>\n",
    "    3.2 [Calculating Per-Node Error](#node-error) <br>\n",
    "    3.3 [Calculating Per-Pipe Error](#pipe-error) <br>\n",
    "    3.4 [Leakage Labelset](#leaks) <br>\n",
    "    3.5 [Dataset Pre-Processing](#pre-process) <br>\n",
    "4. [Implementing CUSUM for Leakage Detection](#cusum)         <br>\n",
    "    4.1 [Online CUSUM](#online)<br>\n",
    "    4.2 [CUSUM Tuning (Preparation)](#tuning)<br>\n",
    "    4.3 [CUSUM Tuning (Actual)](#actual)<br>\n",
    "5. [Boem et al. Residual Analysis](#residual)"
   ]
  },
  {
   "cell_type": "markdown",
   "id": "e88fb90b",
   "metadata": {},
   "source": [
    "# Leak Detection\n",
    "\n",
    "> Garðar Örn Garðarsson <br>\n",
    "Integrated Machine Learning Systems 20-21 <br>\n",
    "University College London"
   ]
  },
  {
   "cell_type": "markdown",
   "id": "0d3d754a",
   "metadata": {},
   "source": [
    "<a id='makegraph'></a>\n",
    "*Back to [Table of Contents](#toc)*"
   ]
  },
  {
   "cell_type": "markdown",
   "id": "1a4c9c5b",
   "metadata": {},
   "source": [
    "## 1. Make Graph"
   ]
  },
  {
   "cell_type": "markdown",
   "id": "666b838c",
   "metadata": {},
   "source": [
    "Convert the `EPANET` model to a `networkx` graph"
   ]
  },
  {
   "cell_type": "code",
   "execution_count": 1,
   "id": "e944d1cd",
   "metadata": {},
   "outputs": [],
   "source": [
    "import os\n",
    "import yaml\n",
    "import time\n",
    "import torch\n",
    "import epynet\n",
    "import numpy as np\n",
    "import pandas as pd\n",
    "import matplotlib.pyplot as plt\n",
    "from sklearn.model_selection import train_test_split\n",
    "\n",
    "from utils.epanet_loader import get_nx_graph\n",
    "from utils.epanet_simulator import epanetSimulator\n",
    "from utils.data_loader import battledimLoader, dataCleaner, dataGenerator, embedSignalOnGraph, rescaleSignal\n",
    "from modules.torch_gnn import ChebNet\n",
    "from utils.visualisation import visualise\n",
    "\n",
    "# Runtime configuration\n",
    "path_to_wdn     = './data/L-TOWN.inp'\n",
    "path_to_data    = './data/l-town-data/'\n",
    "weight_mode     = 'pipe_length'\n",
    "self_loops      = True\n",
    "scaling         = 'minmax'\n",
    "figsize         = (50,16)\n",
    "print_out_rate  = 1               \n",
    "model_name      = 'l-town-chebnet-' + weight_mode +'-' + scaling + '{}'.format('-self_loop' if self_loops else '')\n",
    "last_model_path = './studies/models/' + model_name + '-1.pt'\n",
    "last_log_path   = './studies/logs/'   + model_name + '-1.csv' \n",
    "\n",
    "# Import the .inp file using the EPYNET library\n",
    "wdn = epynet.Network(path_to_wdn)\n",
    "\n",
    "# Solve hydraulic model for a single timestep\n",
    "wdn.solve()\n",
    "\n",
    "# Convert the file using a custom function, based on:\n",
    "# https://github.com/BME-SmartLab/GraphConvWat \n",
    "G , pos , head = get_nx_graph(wdn, weight_mode=weight_mode, get_head=True)"
   ]
  },
  {
   "cell_type": "markdown",
   "id": "82305013",
   "metadata": {},
   "source": [
    "<a id='readscale'></a>\n",
    "*Back to [Table of Contents](#toc)*"
   ]
  },
  {
   "cell_type": "markdown",
   "id": "5cd48d98",
   "metadata": {},
   "source": [
    "## 2. Read in Yearly Prediction and Scale Back to Original Interval"
   ]
  },
  {
   "cell_type": "code",
   "execution_count": 2,
   "id": "04353b3b",
   "metadata": {},
   "outputs": [],
   "source": [
    "def read_prediction(filename='predictions.csv', scale=1, bias=0, start_date='2018-01-01 00:00:00'):\n",
    "    df = pd.read_csv(filename, index_col='Unnamed: 0')\n",
    "    df.columns = ['n{}'.format(int(node)+1) for node in df.columns]\n",
    "    df = df*scale+bias\n",
    "    df.index = pd.date_range(start=start_date,\n",
    "                             periods=len(df),\n",
    "                             freq = '5min')\n",
    "    return df"
   ]
  },
  {
   "cell_type": "code",
   "execution_count": 3,
   "id": "a8607212",
   "metadata": {},
   "outputs": [],
   "source": [
    "n_timesteps = 3                                              # Timesteps, t-1, t-2...t-n used to predict pressure at t\n",
    "sample_rate = 5                                              # Minutes sampling rate of data\n",
    "offset      = pd.DateOffset(minutes=sample_rate*n_timesteps) # We require n_timesteps of data our first prediction"
   ]
  },
  {
   "cell_type": "markdown",
   "id": "5344af04",
   "metadata": {},
   "source": [
    "Load predictions"
   ]
  },
  {
   "cell_type": "code",
   "execution_count": 4,
   "id": "6d91828c",
   "metadata": {
    "scrolled": true
   },
   "outputs": [],
   "source": [
    "p18 = read_prediction(filename='2018_predictions.csv',\n",
    "                      start_date=pd.Timestamp('2018-01-01 00:00:00') + offset)"
   ]
  },
  {
   "cell_type": "markdown",
   "id": "3af04436",
   "metadata": {},
   "source": [
    "Load reconstructions"
   ]
  },
  {
   "cell_type": "code",
   "execution_count": 5,
   "id": "a3443a07",
   "metadata": {},
   "outputs": [],
   "source": [
    "r18 = read_prediction(filename='2018_reconstructions.csv',\n",
    "                      start_date='2018-01-01 00:00:00')"
   ]
  },
  {
   "cell_type": "markdown",
   "id": "5f5e3742",
   "metadata": {},
   "source": [
    "Load leakage dataset"
   ]
  },
  {
   "cell_type": "code",
   "execution_count": 6,
   "id": "ccb2045d",
   "metadata": {},
   "outputs": [],
   "source": [
    "l18 = pd.read_csv('data/l-town-data/2018_Leakages.csv',decimal=',',sep=';',index_col='Timestamp')\n",
    "l18.index = r18.index # Fix the index column timestamp format"
   ]
  },
  {
   "cell_type": "markdown",
   "id": "e4191cf1",
   "metadata": {},
   "source": [
    "<a id='eda'></a>\n",
    "*Back to [Table of Contents](#toc)*"
   ]
  },
  {
   "cell_type": "markdown",
   "id": "c5ac1f7b",
   "metadata": {},
   "source": [
    "## 3. Exploratory Data Analysis"
   ]
  },
  {
   "cell_type": "markdown",
   "id": "1d6e17e8",
   "metadata": {},
   "source": [
    "<a id='wrangling'></a>\n",
    "*Back to [Table of Contents](#toc)*"
   ]
  },
  {
   "cell_type": "markdown",
   "id": "40779cc6",
   "metadata": {},
   "source": [
    "### 3.1 Data Wrangling\n",
    "\n",
    "Lets create a dictionary of the format:\n",
    "\n",
    "`{ 'pipe_name' : [ connected_node_1 , connected_node_2 ] }`\n",
    "\n",
    "For all the pipes in the network"
   ]
  },
  {
   "cell_type": "code",
   "execution_count": 7,
   "id": "a839b0a3",
   "metadata": {},
   "outputs": [],
   "source": [
    "neighbours_by_pipe = {}\n",
    "\n",
    "for node in G:\n",
    "    for neighbour, connecting_edge in G[node].items():\n",
    "        if connecting_edge['name'] == 'SELF':\n",
    "            continue\n",
    "        else:\n",
    "            neighbours_by_pipe[connecting_edge['name']] = [node, neighbour]\n",
    "            "
   ]
  },
  {
   "cell_type": "markdown",
   "id": "d013134b",
   "metadata": {},
   "source": [
    "Let's also create the inverse, when we want to look up pipes by their connecting nodes"
   ]
  },
  {
   "cell_type": "code",
   "execution_count": 8,
   "id": "bf504f88",
   "metadata": {},
   "outputs": [],
   "source": [
    "pipe_by_neighbours = { str(neighbour_list) : pipe for pipe , neighbour_list in neighbours_by_pipe.items()}"
   ]
  },
  {
   "cell_type": "markdown",
   "id": "46eaf133",
   "metadata": {},
   "source": [
    "We'll also create a function to perform the lookup, as the order in which the nodes appear in the key matter and we don't bother with raising endless errors when looking up nodes we know to be connected, just cause we input them wrong"
   ]
  },
  {
   "cell_type": "code",
   "execution_count": 9,
   "id": "a79ccae5",
   "metadata": {},
   "outputs": [],
   "source": [
    "def pipeByneighbourLookup(node1, node2, pipe_by_neighbours, verbose=False):\n",
    "    try:\n",
    "        return pipe_by_neighbours[str([node1,node2])]    # If we don't find the first combination\n",
    "    except:\n",
    "        try:                                            # We try the next\n",
    "            return pipe_by_neighbours[str([node2,node1])]\n",
    "        except:                                         # And if we still don't find it\n",
    "            if verbose:\n",
    "                print('Nodes are not connected by a pipe')\n",
    "            return None                                 # We return nothing"
   ]
  },
  {
   "cell_type": "markdown",
   "id": "d0a8f52d",
   "metadata": {},
   "source": [
    "Try it out:"
   ]
  },
  {
   "cell_type": "code",
   "execution_count": 10,
   "id": "7947a546",
   "metadata": {},
   "outputs": [
    {
     "data": {
      "text/plain": [
       "'p253'"
      ]
     },
     "execution_count": 10,
     "metadata": {},
     "output_type": "execute_result"
    }
   ],
   "source": [
    "pipeByneighbourLookup(1,347,pipe_by_neighbours)"
   ]
  },
  {
   "cell_type": "code",
   "execution_count": 11,
   "id": "94c323c8",
   "metadata": {
    "scrolled": true
   },
   "outputs": [
    {
     "data": {
      "text/plain": [
       "'p253'"
      ]
     },
     "execution_count": 11,
     "metadata": {},
     "output_type": "execute_result"
    }
   ],
   "source": [
    "pipeByneighbourLookup(347,1,pipe_by_neighbours)"
   ]
  },
  {
   "cell_type": "code",
   "execution_count": 12,
   "id": "70cd2ae2",
   "metadata": {},
   "outputs": [
    {
     "name": "stdout",
     "output_type": "stream",
     "text": [
      "Nodes are not connected by a pipe\n"
     ]
    }
   ],
   "source": [
    "pipeByneighbourLookup(1,2,pipe_by_neighbours, verbose=True)"
   ]
  },
  {
   "cell_type": "markdown",
   "id": "d3d617fe",
   "metadata": {},
   "source": [
    "These might really come in handy when it comes to looking up pipe by node or for converting pipe leakage dataframes to leaky nodes!"
   ]
  },
  {
   "cell_type": "markdown",
   "id": "ac02e824",
   "metadata": {},
   "source": [
    "<a id='node-error'></a>\n",
    "*Back to [Table of Contents](#toc)*"
   ]
  },
  {
   "cell_type": "markdown",
   "id": "95156067",
   "metadata": {},
   "source": [
    "### 3.2 Calculating Per-Node Error\n",
    "\n",
    "We may calculate the node-wise validation error, $\\epsilon_{n_{i}}$, by subtracting the predicted values with the reconstructed ones."
   ]
  },
  {
   "cell_type": "code",
   "execution_count": 13,
   "id": "42a9d579",
   "metadata": {},
   "outputs": [],
   "source": [
    "error_by_node = (p18-r18).copy()"
   ]
  },
  {
   "cell_type": "markdown",
   "id": "cd310771",
   "metadata": {},
   "source": [
    "<a id='pipe-error'></a>\n",
    "*Back to [Table of Contents](#toc)*"
   ]
  },
  {
   "cell_type": "markdown",
   "id": "38f020b6",
   "metadata": {},
   "source": [
    "### 3.3 Calculating Per-Pipe Error\n",
    "\n",
    "We may calculate the pipe-wise validation errors, $\\epsilon_{p_i}$, as the difference of the validation error of the two nodes connecting the pipe"
   ]
  },
  {
   "cell_type": "code",
   "execution_count": 14,
   "id": "b17d3961",
   "metadata": {
    "scrolled": false
   },
   "outputs": [],
   "source": [
    "error_by_pipe = {}\n",
    "\n",
    "for key,value in neighbours_by_pipe.items():\n",
    "    node_1 = 'n' + str(value[0])\n",
    "    node_2 = 'n' + str(value[1])\n",
    "    error_by_pipe[key] = ( error_by_node[node_1] - error_by_node[node_2] )\n",
    "    \n",
    "error_by_pipe = pd.DataFrame(error_by_pipe)"
   ]
  },
  {
   "cell_type": "markdown",
   "id": "9d15dd39",
   "metadata": {},
   "source": [
    "<a id='leaks'></a>\n",
    "*Back to [Table of Contents](#toc)*"
   ]
  },
  {
   "cell_type": "markdown",
   "id": "ecc7569c",
   "metadata": {},
   "source": [
    "### 3.4 Leakage Labelset\n",
    "\n",
    "Make a complete leakage labelset for each pipe"
   ]
  },
  {
   "cell_type": "code",
   "execution_count": 15,
   "id": "c5be6c15",
   "metadata": {},
   "outputs": [],
   "source": [
    "leaks_by_pipe = pd.DataFrame([], index=error_by_pipe.index, columns=error_by_pipe.columns)\n",
    "\n",
    "for leaky_pipe in l18:\n",
    "    leaks_by_pipe[leaky_pipe] = l18[leaky_pipe]\n",
    "    \n",
    "leaks_by_pipe = leaks_by_pipe.fillna(0.0)"
   ]
  },
  {
   "cell_type": "markdown",
   "id": "f9881e03",
   "metadata": {},
   "source": [
    "Keep a dictionary of the timestamps of leakages"
   ]
  },
  {
   "cell_type": "code",
   "execution_count": 16,
   "id": "f78413ab",
   "metadata": {},
   "outputs": [],
   "source": [
    "leak_timestamps = {}\n",
    "\n",
    "for leak in l18:\n",
    "    leak_timestamps[leak] = l18.index[l18[leak]>0]"
   ]
  },
  {
   "cell_type": "code",
   "execution_count": 17,
   "id": "efb0073f",
   "metadata": {},
   "outputs": [
    {
     "data": {
      "text/plain": [
       "dict_keys(['p31', 'p158', 'p183', 'p232', 'p257', 'p369', 'p427', 'p461', 'p538', 'p628', 'p654', 'p673', 'p810', 'p866'])"
      ]
     },
     "execution_count": 17,
     "metadata": {},
     "output_type": "execute_result"
    }
   ],
   "source": [
    "leak_timestamps.keys()"
   ]
  },
  {
   "cell_type": "code",
   "execution_count": 18,
   "id": "e3294f79",
   "metadata": {},
   "outputs": [
    {
     "data": {
      "text/plain": [
       "DatetimeIndex(['2018-03-05 15:45:00', '2018-03-05 15:50:00',\n",
       "               '2018-03-05 15:55:00'],\n",
       "              dtype='datetime64[ns]', freq='5T')"
      ]
     },
     "execution_count": 18,
     "metadata": {},
     "output_type": "execute_result"
    }
   ],
   "source": [
    "leak_timestamps['p673'][:3]"
   ]
  },
  {
   "cell_type": "code",
   "execution_count": 19,
   "id": "e97af3b1",
   "metadata": {},
   "outputs": [
    {
     "data": {
      "text/plain": [
       "2018-03-05 15:35:00     0.0\n",
       "2018-03-05 15:40:00     0.0\n",
       "2018-03-05 15:45:00    28.4\n",
       "2018-03-05 15:50:00    28.4\n",
       "Freq: 5T, Name: p673, dtype: float64"
      ]
     },
     "execution_count": 19,
     "metadata": {},
     "output_type": "execute_result"
    }
   ],
   "source": [
    "timestamp = leak_timestamps['p673'][:4] - pd.Timedelta(minutes=10) # Check moments before leak\n",
    "leaks_by_pipe['p673'][timestamp]"
   ]
  },
  {
   "cell_type": "markdown",
   "id": "ef0b1a00",
   "metadata": {},
   "source": [
    "Alternatively, make a node-wise leak labelset!"
   ]
  },
  {
   "cell_type": "code",
   "execution_count": 20,
   "id": "4b68e9a8",
   "metadata": {},
   "outputs": [],
   "source": [
    "leaks_by_node = pd.DataFrame(data=np.zeros(error_by_node.shape), \n",
    "                             index = error_by_node.index, \n",
    "                             columns = np.arange(1,783))"
   ]
  },
  {
   "cell_type": "code",
   "execution_count": 21,
   "id": "cbb2621d",
   "metadata": {},
   "outputs": [],
   "source": [
    "for pipe,neighbours in neighbours_by_pipe.items():\n",
    "    for neighbour in neighbours:\n",
    "        leaks_by_node[neighbour] += leaks_by_pipe[pipe]"
   ]
  },
  {
   "cell_type": "code",
   "execution_count": 22,
   "id": "5a59261f",
   "metadata": {},
   "outputs": [
    {
     "data": {
      "text/plain": [
       "2018-06-29 01:35:00     0.01\n",
       "2018-06-29 01:40:00     0.01\n",
       "2018-06-29 01:45:00     0.01\n",
       "2018-06-29 01:50:00     0.01\n",
       "2018-06-29 01:55:00     0.01\n",
       "                       ...  \n",
       "2018-08-12 17:10:00    16.01\n",
       "2018-08-12 17:15:00    16.01\n",
       "2018-08-12 17:20:00    16.00\n",
       "2018-08-12 17:25:00    15.99\n",
       "2018-08-12 17:30:00    16.00\n",
       "Freq: 5T, Name: 42, Length: 12864, dtype: float64"
      ]
     },
     "execution_count": 22,
     "metadata": {},
     "output_type": "execute_result"
    }
   ],
   "source": [
    "leaks_by_node[42][leak_timestamps[pipeByneighbourLookup(40,42,pipe_by_neighbours)]]"
   ]
  },
  {
   "cell_type": "code",
   "execution_count": 23,
   "id": "433b0610",
   "metadata": {
    "scrolled": true
   },
   "outputs": [
    {
     "data": {
      "text/html": [
       "<div>\n",
       "<style scoped>\n",
       "    .dataframe tbody tr th:only-of-type {\n",
       "        vertical-align: middle;\n",
       "    }\n",
       "\n",
       "    .dataframe tbody tr th {\n",
       "        vertical-align: top;\n",
       "    }\n",
       "\n",
       "    .dataframe thead th {\n",
       "        text-align: right;\n",
       "    }\n",
       "</style>\n",
       "<table border=\"1\" class=\"dataframe\">\n",
       "  <thead>\n",
       "    <tr style=\"text-align: right;\">\n",
       "      <th></th>\n",
       "      <th>1</th>\n",
       "      <th>2</th>\n",
       "      <th>3</th>\n",
       "      <th>4</th>\n",
       "      <th>5</th>\n",
       "      <th>6</th>\n",
       "      <th>7</th>\n",
       "      <th>8</th>\n",
       "      <th>9</th>\n",
       "      <th>10</th>\n",
       "      <th>...</th>\n",
       "      <th>773</th>\n",
       "      <th>774</th>\n",
       "      <th>775</th>\n",
       "      <th>776</th>\n",
       "      <th>777</th>\n",
       "      <th>778</th>\n",
       "      <th>779</th>\n",
       "      <th>780</th>\n",
       "      <th>781</th>\n",
       "      <th>782</th>\n",
       "    </tr>\n",
       "  </thead>\n",
       "  <tbody>\n",
       "    <tr>\n",
       "      <th>2018-01-01 00:00:00</th>\n",
       "      <td>0.0</td>\n",
       "      <td>0.0</td>\n",
       "      <td>0.0</td>\n",
       "      <td>0.0</td>\n",
       "      <td>0.0</td>\n",
       "      <td>0.0</td>\n",
       "      <td>0.0</td>\n",
       "      <td>0.0</td>\n",
       "      <td>0.0</td>\n",
       "      <td>0.0</td>\n",
       "      <td>...</td>\n",
       "      <td>0.0</td>\n",
       "      <td>0.0</td>\n",
       "      <td>0.0</td>\n",
       "      <td>0.0</td>\n",
       "      <td>0.0</td>\n",
       "      <td>0.0</td>\n",
       "      <td>0.0</td>\n",
       "      <td>0.0</td>\n",
       "      <td>0.0</td>\n",
       "      <td>0.0</td>\n",
       "    </tr>\n",
       "    <tr>\n",
       "      <th>2018-01-01 00:05:00</th>\n",
       "      <td>0.0</td>\n",
       "      <td>0.0</td>\n",
       "      <td>0.0</td>\n",
       "      <td>0.0</td>\n",
       "      <td>0.0</td>\n",
       "      <td>0.0</td>\n",
       "      <td>0.0</td>\n",
       "      <td>0.0</td>\n",
       "      <td>0.0</td>\n",
       "      <td>0.0</td>\n",
       "      <td>...</td>\n",
       "      <td>0.0</td>\n",
       "      <td>0.0</td>\n",
       "      <td>0.0</td>\n",
       "      <td>0.0</td>\n",
       "      <td>0.0</td>\n",
       "      <td>0.0</td>\n",
       "      <td>0.0</td>\n",
       "      <td>0.0</td>\n",
       "      <td>0.0</td>\n",
       "      <td>0.0</td>\n",
       "    </tr>\n",
       "    <tr>\n",
       "      <th>2018-01-01 00:10:00</th>\n",
       "      <td>0.0</td>\n",
       "      <td>0.0</td>\n",
       "      <td>0.0</td>\n",
       "      <td>0.0</td>\n",
       "      <td>0.0</td>\n",
       "      <td>0.0</td>\n",
       "      <td>0.0</td>\n",
       "      <td>0.0</td>\n",
       "      <td>0.0</td>\n",
       "      <td>0.0</td>\n",
       "      <td>...</td>\n",
       "      <td>0.0</td>\n",
       "      <td>0.0</td>\n",
       "      <td>0.0</td>\n",
       "      <td>0.0</td>\n",
       "      <td>0.0</td>\n",
       "      <td>0.0</td>\n",
       "      <td>0.0</td>\n",
       "      <td>0.0</td>\n",
       "      <td>0.0</td>\n",
       "      <td>0.0</td>\n",
       "    </tr>\n",
       "    <tr>\n",
       "      <th>2018-01-01 00:15:00</th>\n",
       "      <td>0.0</td>\n",
       "      <td>0.0</td>\n",
       "      <td>0.0</td>\n",
       "      <td>0.0</td>\n",
       "      <td>0.0</td>\n",
       "      <td>0.0</td>\n",
       "      <td>0.0</td>\n",
       "      <td>0.0</td>\n",
       "      <td>0.0</td>\n",
       "      <td>0.0</td>\n",
       "      <td>...</td>\n",
       "      <td>0.0</td>\n",
       "      <td>0.0</td>\n",
       "      <td>0.0</td>\n",
       "      <td>0.0</td>\n",
       "      <td>0.0</td>\n",
       "      <td>0.0</td>\n",
       "      <td>0.0</td>\n",
       "      <td>0.0</td>\n",
       "      <td>0.0</td>\n",
       "      <td>0.0</td>\n",
       "    </tr>\n",
       "    <tr>\n",
       "      <th>2018-01-01 00:20:00</th>\n",
       "      <td>0.0</td>\n",
       "      <td>0.0</td>\n",
       "      <td>0.0</td>\n",
       "      <td>0.0</td>\n",
       "      <td>0.0</td>\n",
       "      <td>0.0</td>\n",
       "      <td>0.0</td>\n",
       "      <td>0.0</td>\n",
       "      <td>0.0</td>\n",
       "      <td>0.0</td>\n",
       "      <td>...</td>\n",
       "      <td>0.0</td>\n",
       "      <td>0.0</td>\n",
       "      <td>0.0</td>\n",
       "      <td>0.0</td>\n",
       "      <td>0.0</td>\n",
       "      <td>0.0</td>\n",
       "      <td>0.0</td>\n",
       "      <td>0.0</td>\n",
       "      <td>0.0</td>\n",
       "      <td>0.0</td>\n",
       "    </tr>\n",
       "  </tbody>\n",
       "</table>\n",
       "<p>5 rows × 782 columns</p>\n",
       "</div>"
      ],
      "text/plain": [
       "                     1    2    3    4    5    6    7    8    9    10   ...  \\\n",
       "2018-01-01 00:00:00  0.0  0.0  0.0  0.0  0.0  0.0  0.0  0.0  0.0  0.0  ...   \n",
       "2018-01-01 00:05:00  0.0  0.0  0.0  0.0  0.0  0.0  0.0  0.0  0.0  0.0  ...   \n",
       "2018-01-01 00:10:00  0.0  0.0  0.0  0.0  0.0  0.0  0.0  0.0  0.0  0.0  ...   \n",
       "2018-01-01 00:15:00  0.0  0.0  0.0  0.0  0.0  0.0  0.0  0.0  0.0  0.0  ...   \n",
       "2018-01-01 00:20:00  0.0  0.0  0.0  0.0  0.0  0.0  0.0  0.0  0.0  0.0  ...   \n",
       "\n",
       "                     773  774  775  776  777  778  779  780  781  782  \n",
       "2018-01-01 00:00:00  0.0  0.0  0.0  0.0  0.0  0.0  0.0  0.0  0.0  0.0  \n",
       "2018-01-01 00:05:00  0.0  0.0  0.0  0.0  0.0  0.0  0.0  0.0  0.0  0.0  \n",
       "2018-01-01 00:10:00  0.0  0.0  0.0  0.0  0.0  0.0  0.0  0.0  0.0  0.0  \n",
       "2018-01-01 00:15:00  0.0  0.0  0.0  0.0  0.0  0.0  0.0  0.0  0.0  0.0  \n",
       "2018-01-01 00:20:00  0.0  0.0  0.0  0.0  0.0  0.0  0.0  0.0  0.0  0.0  \n",
       "\n",
       "[5 rows x 782 columns]"
      ]
     },
     "execution_count": 23,
     "metadata": {},
     "output_type": "execute_result"
    }
   ],
   "source": [
    "leaks_by_node.head()"
   ]
  },
  {
   "cell_type": "markdown",
   "id": "9cf36258",
   "metadata": {},
   "source": [
    "<a id='pre-process'></a>\n",
    "*Back to [Table of Contents](#toc)*"
   ]
  },
  {
   "cell_type": "markdown",
   "id": "cd60dd90",
   "metadata": {},
   "source": [
    "### 3.5 Dataset Pre-Processing\n",
    "\n",
    "Process the dataset for timeseries classification. <br>\n",
    "I want to devise a set where I have a configurable window of observations, `[1, 5, 10, ... 200]`.<br>\n",
    "For that window of observations, I sum the per pipe events such that the according label will read `[0, 0, 1, 0, ...]`, where the set bit indicates the leaky pipes for that interval. <br>"
   ]
  },
  {
   "cell_type": "markdown",
   "id": "dbd1b708",
   "metadata": {},
   "source": [
    "First clean out the `NaNs` from the feature and labelset caused by the window size of the predictive model"
   ]
  },
  {
   "cell_type": "code",
   "execution_count": 24,
   "id": "7f59e6c6",
   "metadata": {
    "scrolled": true
   },
   "outputs": [],
   "source": [
    "error_by_pipe = error_by_pipe.dropna()"
   ]
  },
  {
   "cell_type": "code",
   "execution_count": 25,
   "id": "7b94deac",
   "metadata": {},
   "outputs": [],
   "source": [
    "leaks_by_pipe = leaks_by_pipe[leaks_by_pipe.index.isin(error_by_pipe.index)]"
   ]
  },
  {
   "cell_type": "markdown",
   "id": "320368b4",
   "metadata": {},
   "source": [
    "Similarly for the pipe-wise classification, do it for the node-wise classification"
   ]
  },
  {
   "cell_type": "code",
   "execution_count": 26,
   "id": "e01c8a7b",
   "metadata": {
    "scrolled": true
   },
   "outputs": [],
   "source": [
    "error_by_node = error_by_node.dropna()"
   ]
  },
  {
   "cell_type": "code",
   "execution_count": 27,
   "id": "a5419941",
   "metadata": {},
   "outputs": [],
   "source": [
    "leaks_by_node = leaks_by_node[leaks_by_node.index.isin(error_by_node.index)]"
   ]
  },
  {
   "cell_type": "markdown",
   "id": "94ab18c6",
   "metadata": {},
   "source": [
    "Split up the feature and labelset for classification"
   ]
  },
  {
   "cell_type": "code",
   "execution_count": 28,
   "id": "92e92982",
   "metadata": {},
   "outputs": [],
   "source": [
    "def classificationTaskSplitter(x,y,window_size=10,data_slice=None):\n",
    "    \n",
    "    if not data_slice:\n",
    "        data_slice = len(x)\n",
    "        \n",
    "    window_start = 0\n",
    "    window_end   = window_start+window_size\n",
    "\n",
    "    features = []\n",
    "    labels   = []\n",
    "\n",
    "    for i in range(len(x[window_start:data_slice])):\n",
    "        features.append( x.iloc[window_start:window_end].to_numpy() )\n",
    "        labels.append(  (y.iloc[window_start:window_end].sum().to_numpy() > 5).astype(int) )\n",
    "        window_start += 1\n",
    "        window_end   += 1\n",
    "    \n",
    "    return np.array(features), np.array(labels)"
   ]
  },
  {
   "cell_type": "code",
   "execution_count": 29,
   "id": "023cc1ed",
   "metadata": {},
   "outputs": [],
   "source": [
    "x, y = classificationTaskSplitter(error_by_node, error_by_node, window_size=24, data_slice = 100)"
   ]
  },
  {
   "cell_type": "code",
   "execution_count": 30,
   "id": "3c15416c",
   "metadata": {
    "scrolled": false
   },
   "outputs": [
    {
     "name": "stdout",
     "output_type": "stream",
     "text": [
      "x: (100, 24, 782) \n",
      "y: (100, 782)\n"
     ]
    }
   ],
   "source": [
    "print(\"x: {} \\ny: {}\".format(x.shape, y.shape))"
   ]
  },
  {
   "cell_type": "code",
   "execution_count": 31,
   "id": "5a0aea2f",
   "metadata": {},
   "outputs": [
    {
     "data": {
      "text/plain": [
       "(24, 782)"
      ]
     },
     "execution_count": 31,
     "metadata": {},
     "output_type": "execute_result"
    }
   ],
   "source": [
    "x[0].shape"
   ]
  },
  {
   "cell_type": "code",
   "execution_count": 32,
   "id": "67d83c7c",
   "metadata": {},
   "outputs": [
    {
     "data": {
      "text/plain": [
       "(18768,)"
      ]
     },
     "execution_count": 32,
     "metadata": {},
     "output_type": "execute_result"
    }
   ],
   "source": [
    "x[0].reshape(782*24).shape"
   ]
  },
  {
   "cell_type": "markdown",
   "id": "b893d200",
   "metadata": {},
   "source": [
    "<a id='cusum'></a>\n",
    "*Back to [Table of Contents](#toc)*"
   ]
  },
  {
   "cell_type": "markdown",
   "id": "204510b5",
   "metadata": {},
   "source": [
    "## 4. Implementing CUSUM for Leakage Detection"
   ]
  },
  {
   "cell_type": "markdown",
   "id": "4b8c4900",
   "metadata": {},
   "source": [
    "Use Marcos Duarte's implementation of the CUSUM algorithm: \n",
    "\n",
    "https://github.com/BMClab/BMC/blob/master/functions/detect_cusum.py<br>\n",
    "https://github.com/BMClab/BMC/blob/master/notebooks/DetectCUSUM.ipynb"
   ]
  },
  {
   "cell_type": "code",
   "execution_count": 33,
   "id": "8b9b913f",
   "metadata": {},
   "outputs": [
    {
     "name": "stderr",
     "output_type": "stream",
     "text": [
      "/Users/gardar/Documents/UCL/ELEC0054 IMLS Research Project/04 Implementation/04 Leakage Detection/utils/cusum.py:11: UserWarning: A newest version is available at https://pypi.org/project/detecta/\n",
      "  warnings.warn('A newest version is available at https://pypi.org/project/detecta/')\n"
     ]
    }
   ],
   "source": [
    "from utils.cusum import detect_cusum\n",
    "import networkx as nx"
   ]
  },
  {
   "cell_type": "markdown",
   "id": "1cbdfade",
   "metadata": {},
   "source": [
    "Let's not standardise the signals for now:"
   ]
  },
  {
   "cell_type": "code",
   "execution_count": 34,
   "id": "02247775",
   "metadata": {},
   "outputs": [
    {
     "data": {
      "text/plain": [
       "<AxesSubplot:>"
      ]
     },
     "execution_count": 34,
     "metadata": {},
     "output_type": "execute_result"
    },
    {
     "data": {
      "image/png": "[encoded data removed]",
      "text/plain": [
       "<Figure size 1152x576 with 1 Axes>"
      ]
     },
     "metadata": {
      "needs_background": "light"
     },
     "output_type": "display_data"
    }
   ],
   "source": [
    "l18.plot(figsize=(16,8))"
   ]
  },
  {
   "cell_type": "code",
   "execution_count": 35,
   "id": "93398aeb",
   "metadata": {},
   "outputs": [
    {
     "data": {
      "text/plain": [
       "count    105117.000000\n",
       "mean          0.007183\n",
       "std           0.002786\n",
       "min          -0.002804\n",
       "25%           0.005068\n",
       "50%           0.006779\n",
       "75%           0.009170\n",
       "max           0.020658\n",
       "Name: n42, dtype: float64"
      ]
     },
     "execution_count": 35,
     "metadata": {},
     "output_type": "execute_result"
    }
   ],
   "source": [
    "error_by_node['n42'].describe()"
   ]
  },
  {
   "cell_type": "markdown",
   "id": "21e0789a",
   "metadata": {},
   "source": [
    "Let's try out the function:"
   ]
  },
  {
   "cell_type": "code",
   "execution_count": 36,
   "id": "66640f22",
   "metadata": {
    "scrolled": false
   },
   "outputs": [
    {
     "data": {
      "image/png": "[encoded data removed]",
      "text/plain": [
       "<Figure size 576x432 with 2 Axes>"
      ]
     },
     "metadata": {
      "needs_background": "light"
     },
     "output_type": "display_data"
    },
    {
     "data": {
      "text/plain": [
       "(array([], dtype=int64),\n",
       " array([], dtype=int64),\n",
       " array([], dtype=int64),\n",
       " array([], dtype=float64))"
      ]
     },
     "execution_count": 36,
     "metadata": {},
     "output_type": "execute_result"
    }
   ],
   "source": [
    "detect_cusum(error_by_node['n42'].rolling('7d',min_periods=288).mean().dropna()[:65000], \n",
    "             threshold = 1, \n",
    "             drift     = 0, \n",
    "             show      = True, \n",
    "             ending    = True)"
   ]
  },
  {
   "cell_type": "markdown",
   "id": "a0f81738",
   "metadata": {},
   "source": [
    "<a id='online'></a>\n",
    "*Back to [Table of Contents](#toc)*"
   ]
  },
  {
   "cell_type": "markdown",
   "id": "0d89484b",
   "metadata": {},
   "source": [
    "### 4.1 Online CUSUM\n",
    "\n",
    "I wonder what the detections look like if we are processing the signal on-line"
   ]
  },
  {
   "cell_type": "markdown",
   "id": "e7705738",
   "metadata": {},
   "source": [
    "Define a function to calculate the moving average of a `np.array`"
   ]
  },
  {
   "cell_type": "code",
   "execution_count": 37,
   "id": "f8e52e53",
   "metadata": {},
   "outputs": [],
   "source": [
    "def movingAverage(x, window=10):\n",
    "    return np.convolve(x, np.ones(window), 'valid') / window"
   ]
  },
  {
   "cell_type": "markdown",
   "id": "4c378505",
   "metadata": {},
   "source": [
    "Define a function that returns the number of intervals that should be used for a given timeframe and sampling rate"
   ]
  },
  {
   "cell_type": "code",
   "execution_count": 38,
   "id": "7cbf76b0",
   "metadata": {},
   "outputs": [],
   "source": [
    "def determineWindowSize(window='5d',sampling_rate='5min'):\n",
    "    return int(pd.Timedelta(window) / pd.Timedelta(sampling_rate))"
   ]
  },
  {
   "cell_type": "markdown",
   "id": "50695ea0",
   "metadata": {},
   "source": [
    "Let's try out our moving average function"
   ]
  },
  {
   "cell_type": "code",
   "execution_count": 39,
   "id": "1db9bdab",
   "metadata": {},
   "outputs": [],
   "source": [
    "signal = []\n",
    "window = determineWindowSize(window='7d',sampling_rate='5min')\n",
    "\n",
    "for measurement in error_by_node['n42'][45000:65000]:\n",
    "    signal.append(measurement)"
   ]
  },
  {
   "cell_type": "code",
   "execution_count": 40,
   "id": "4693359f",
   "metadata": {},
   "outputs": [
    {
     "data": {
      "image/png": "[encoded data removed]",
      "text/plain": [
       "<Figure size 432x288 with 1 Axes>"
      ]
     },
     "metadata": {
      "needs_background": "light"
     },
     "output_type": "display_data"
    }
   ],
   "source": [
    "# Get the size of a 7-day window for a signal with 5-min sampling rate\n",
    "window = determineWindowSize(window='7d',sampling_rate='5min') \n",
    "# Plot the moving average of the signal \n",
    "plt.plot(movingAverage(signal,window))                          \n",
    "plt.suptitle('Moving average, window length: {} time intervals'.format(window))\n",
    "plt.show()"
   ]
  },
  {
   "cell_type": "markdown",
   "id": "e83cb8d8",
   "metadata": {},
   "source": [
    "Emulate that this were happening online:<br>\n",
    "**This takes a bunch of time to execute so leaving it commented out, the `np.append` is very compute intensive, regular python append is better**"
   ]
  },
  {
   "cell_type": "raw",
   "id": "94de6b66",
   "metadata": {},
   "source": [
    "signal = np.array([])\n",
    "window = determineWindowSize(window='7d',sampling_rate='5min')\n",
    "alarms = []\n",
    "\n",
    "for measurement in error_by_node['n42'][45000:65000]:\n",
    "    signal = np.append(signal, measurement)\n",
    "    ta, _, _, _ = detect_cusum(movingAverage(signal,window), \n",
    "                               threshold =0.008, \n",
    "                               drift = 1e-7, \n",
    "                               show = False,\n",
    "                               ending = False)\n",
    "    if not ta:\n",
    "        continue\n",
    "    else:\n",
    "        alarms.append(ta)\n"
   ]
  },
  {
   "cell_type": "markdown",
   "id": "792531d2",
   "metadata": {},
   "source": [
    "I can confirm that computing the `movingAverage` on-line, and applying the $\\text{CUSUM}$ algorithm with the `detect_cusum` function yields the same result sequentially, as if we pass the function the same complete frame. <br>\n",
    "In the case of node `n42`, for the dataslice `45000:65000` it always returns `15113` as the time of alarm, and hasn't alarmed prematurely before encountering the value at timestep `15113` when processing sequentially. \n",
    "\n",
    "See below:"
   ]
  },
  {
   "cell_type": "code",
   "execution_count": null,
   "id": "8054b054",
   "metadata": {},
   "outputs": [],
   "source": [
    "signal = []\n",
    "m_avg  = []\n",
    "window = determineWindowSize(window='7d',sampling_rate='5min')\n",
    "\n",
    "for measurement in error_by_node['n42'][45000:65000]:\n",
    "    signal.append(measurement)\n",
    "    m_avg.append(movingAverage(np.array(signal),window))"
   ]
  },
  {
   "cell_type": "markdown",
   "id": "6258f86d",
   "metadata": {},
   "source": [
    "Now we have a moving average signal for all the timesteps in `[45000:65000]`.<br>\n",
    "So, let's try and run $\\text{CUSUM}$ on the entire moving average signal:"
   ]
  },
  {
   "cell_type": "code",
   "execution_count": null,
   "id": "72502110",
   "metadata": {
    "scrolled": false
   },
   "outputs": [],
   "source": [
    "ta, _, _, _ = detect_cusum(movingAverage(signal,window), \n",
    "                           threshold =0.008, \n",
    "                           drift = 1e-7, \n",
    "                           show = True,\n",
    "                           ending = False)\n",
    "print(\"Time of alarm at: {}\".format(ta))"
   ]
  },
  {
   "cell_type": "markdown",
   "id": "4838fe41",
   "metadata": {},
   "source": [
    "OK ✅ <br>\n",
    "But now, if we were to calculate the same moving average signal up until the time of alarm?"
   ]
  },
  {
   "cell_type": "code",
   "execution_count": null,
   "id": "6db2ae7e",
   "metadata": {
    "scrolled": false
   },
   "outputs": [],
   "source": [
    "ta, _, _, _ = detect_cusum(movingAverage(signal[:15113],window), \n",
    "                           threshold =0.008, \n",
    "                           drift = 1e-7, \n",
    "                           show = True,\n",
    "                           ending = False)\n",
    "print(\"Time of alarm at: {}\".format(ta))"
   ]
  },
  {
   "cell_type": "markdown",
   "id": "c73382ba",
   "metadata": {},
   "source": [
    "Hmm, no and from the $g_+$ and $g_-$ plots (the one at the bottom in the figure above) it seems the sums are far from reaching the threshold"
   ]
  },
  {
   "cell_type": "markdown",
   "id": "a68d1558",
   "metadata": {},
   "source": [
    "I wonder if this is due to our smoothing of the signal, i.e. is the rolling mean window causing this \"delay\"?"
   ]
  },
  {
   "cell_type": "code",
   "execution_count": null,
   "id": "a5759e18",
   "metadata": {
    "scrolled": false
   },
   "outputs": [],
   "source": [
    "ta, _, _, _ = detect_cusum(m_avg[15113+window], \n",
    "                           threshold =0.008, \n",
    "                           drift = 1e-7, \n",
    "                           show = True,\n",
    "                           ending = False)\n",
    "print(\"Time of alarm at: {}\".format(ta))"
   ]
  },
  {
   "cell_type": "markdown",
   "id": "85044842",
   "metadata": {},
   "source": [
    "Well, yes so it seems, what if we look at the time interval just before ?"
   ]
  },
  {
   "cell_type": "code",
   "execution_count": null,
   "id": "72268981",
   "metadata": {
    "scrolled": false
   },
   "outputs": [],
   "source": [
    "ta, _, _, _ = detect_cusum(m_avg[15113+window-2], \n",
    "                           threshold =0.008, \n",
    "                           drift = 1e-7, \n",
    "                           show = True,\n",
    "                           ending = False)\n",
    "print(\"Time of alarm at: {}\".format(ta))"
   ]
  },
  {
   "cell_type": "markdown",
   "id": "c2ac9490",
   "metadata": {},
   "source": [
    "Bingo... no alarm, so effectively we've sliced the front of the data while gathering the averages:"
   ]
  },
  {
   "cell_type": "code",
   "execution_count": null,
   "id": "32719559",
   "metadata": {},
   "outputs": [],
   "source": [
    "movingAverage(signal[:15113],window).shape"
   ]
  },
  {
   "cell_type": "markdown",
   "id": "a4955b6d",
   "metadata": {},
   "source": [
    "That's why the indices didn't match up, d'oy"
   ]
  },
  {
   "cell_type": "markdown",
   "id": "41c9d651",
   "metadata": {},
   "source": [
    "<a id='tuning'></a>\n",
    "*Back to [Table of Contents](#toc)*"
   ]
  },
  {
   "cell_type": "markdown",
   "id": "2b741236",
   "metadata": {},
   "source": [
    "### 4.2 CUSUM Tuning (Preparation)\n",
    "\n",
    "Let's now start focusing on tuning the $\\text{CUSUM}$ algorithm.\n",
    "\n",
    "I was thinking if we should tune it such that:\n",
    "\n",
    "1. We use a part or majority of the historical leakage dataset of 2018 to tune.\n",
    "2. We count the number of events that should be detected in every pipe residual signal in the network, from the historical data.\n",
    "3. To refrain from overfitting with this approach, for a single pipe leakage, we count it as one event to be detected in the leaky pipe, and it‘s $k$-th order neighbours <br>\n",
    "    3.1 Pipes that are not  $k$-th order neighbours of pipes with leakages in 2018 will thus have this set to 0 <br>\n",
    "    3.2 Pipes that have leaked in 2018 and/or are the $k$-th order neighbour‘s of a leaky pipe, can thus have this set to $1, 2, ... , n$ number of leaks in k-neighbourhood.\n",
    "4. We run CUSUM on a given residual signal, and from the permittable number of events to be detected in the given signal, we can compare it with the number of detections to obtain missed detections and false alarms.\n",
    "5. Adjust threshold and drift accordingly and repeat until convergence\n",
    "6. Repeat for all pipes\n",
    " \n",
    "For tuning the sensitivity, I think rather than starting from a large threshold and stepping down (top-down approach), it would be more feasible to start from a small threshold and aim to minimising false detections (bottom-up approach).\n",
    "I get the feeling if we start with a large threshold, we will leave it at a large threshold in the pipes with no leaks, so in future detections we may miss events due to this."
   ]
  },
  {
   "cell_type": "markdown",
   "id": "4330c484",
   "metadata": {},
   "source": [
    "Let's start out by figuring out which nodes we allow $\\text{CUSUM}$ to detect events in, such that we don't lose the isolation capabilities of a leakage event"
   ]
  },
  {
   "cell_type": "code",
   "execution_count": null,
   "id": "7fde60ce",
   "metadata": {
    "scrolled": true
   },
   "outputs": [],
   "source": [
    "l18.head()"
   ]
  },
  {
   "cell_type": "markdown",
   "id": "01a396fd",
   "metadata": {},
   "source": [
    "And we have a method for getting the two connecting nodes:"
   ]
  },
  {
   "cell_type": "code",
   "execution_count": null,
   "id": "a34a023b",
   "metadata": {},
   "outputs": [],
   "source": [
    "neighbours_by_pipe['p31']"
   ]
  },
  {
   "cell_type": "markdown",
   "id": "469a70e4",
   "metadata": {},
   "source": [
    "So we can return all the nodes in the neighbourhood of the leaky pipe "
   ]
  },
  {
   "cell_type": "code",
   "execution_count": null,
   "id": "017539c9",
   "metadata": {},
   "outputs": [],
   "source": [
    "nx.single_source_shortest_path_length(G, 40, cutoff=3)"
   ]
  },
  {
   "cell_type": "markdown",
   "id": "763e2472",
   "metadata": {},
   "source": [
    "And to get the unique set of nodes for both edges connected by the pipe, I take the peculiar approach of making a `DataFrame` from the dicts and snatching the header 😅"
   ]
  },
  {
   "cell_type": "code",
   "execution_count": null,
   "id": "0d89db36",
   "metadata": {},
   "outputs": [],
   "source": [
    "node_1_neighbours = nx.single_source_shortest_path_length(G, 42, cutoff=3)\n",
    "node_2_neighbours = nx.single_source_shortest_path_length(G, 40, cutoff=3)\n",
    "\n",
    "n_hop_neighbours = [unique for unique in pd.DataFrame([node_1_neighbours, node_2_neighbours]).columns]"
   ]
  },
  {
   "cell_type": "code",
   "execution_count": null,
   "id": "0cacf08b",
   "metadata": {
    "scrolled": true
   },
   "outputs": [],
   "source": [
    "n_hop_neighbours"
   ]
  },
  {
   "cell_type": "markdown",
   "id": "963a974e",
   "metadata": {},
   "source": [
    "Okay, so from this we could calculate for all the nodes in the network, how many permittable events are to be detected in them <br>\n",
    "Let's put this all together"
   ]
  },
  {
   "cell_type": "code",
   "execution_count": null,
   "id": "89e8344b",
   "metadata": {},
   "outputs": [],
   "source": [
    "node_total_leak_events = {key: 0 for key in np.arange(1,783)}\n",
    "\n",
    "for leaky_pipe in l18:\n",
    "    # Get the nodes connected by the leaky pipe\n",
    "    leaky_nodes       = neighbours_by_pipe[leaky_pipe]\n",
    "    \n",
    "    # Return the k-hop neighbours of those nodes\n",
    "    node_1_neighbours = nx.single_source_shortest_path_length(G, leaky_nodes[0], cutoff=2)\n",
    "    node_2_neighbours = nx.single_source_shortest_path_length(G, leaky_nodes[1], cutoff=2)\n",
    "    \n",
    "    # As they can share neighbours, we need to get the unique neighbours\n",
    "    n_hop_neighbours = [unique for unique in pd.DataFrame([node_1_neighbours, node_2_neighbours]).columns]\n",
    "    \n",
    "    for node in n_hop_neighbours:\n",
    "        node_total_leak_events[node] += 1"
   ]
  },
  {
   "cell_type": "markdown",
   "id": "c3de03fa",
   "metadata": {},
   "source": [
    "But how many unique pipes could then be detected given the 3-hop neighbourhood rule?"
   ]
  },
  {
   "cell_type": "code",
   "execution_count": null,
   "id": "08ec5da1",
   "metadata": {},
   "outputs": [],
   "source": [
    "permissible_detections = 0\n",
    "for k,v in node_total_leak_events.items():\n",
    "    if v > 0:\n",
    "        permissible_detections += 1\n",
    "permissible_detections"
   ]
  },
  {
   "cell_type": "markdown",
   "id": "1c66f3ed",
   "metadata": {},
   "source": [
    "And how many detections could that mean in the year?"
   ]
  },
  {
   "cell_type": "code",
   "execution_count": null,
   "id": "d2ee89ad",
   "metadata": {},
   "outputs": [],
   "source": [
    "permissible_detections = 0\n",
    "for k,v in node_total_leak_events.items():\n",
    "    if v > 0:\n",
    "        permissible_detections += v\n",
    "permissible_detections"
   ]
  },
  {
   "cell_type": "markdown",
   "id": "cd7d6eba",
   "metadata": {},
   "source": [
    "Hmm, maybe we need to be tighter on the $k$-hop neighbourhood!<br>\n",
    "**Let's revise the neighbourhood when it comes to tuning the $\\mathbf{CUSUM}$ thresholds**"
   ]
  },
  {
   "cell_type": "markdown",
   "id": "e185a661",
   "metadata": {},
   "source": [
    "So, okay, we ofcourse have to point to a leaky pipe, not a leaky node, that is our end goal. <br>\n",
    "Thus, we must now devise a method, such that if a leakage is detected in a node, or better, a couple of nodes, it returns a single leaky pipe, that is shared by the original leaky node, within a given k-hop neighbourhood."
   ]
  },
  {
   "cell_type": "markdown",
   "id": "c0aefe5f",
   "metadata": {},
   "source": [
    "Some leaky pipes:"
   ]
  },
  {
   "cell_type": "code",
   "execution_count": null,
   "id": "4e5f2b4e",
   "metadata": {},
   "outputs": [],
   "source": [
    "l18.columns[:5]"
   ]
  },
  {
   "cell_type": "markdown",
   "id": "0bf20424",
   "metadata": {},
   "source": [
    "The two connecting nodes of a leaky pipe"
   ]
  },
  {
   "cell_type": "code",
   "execution_count": null,
   "id": "783a9dd9",
   "metadata": {},
   "outputs": [],
   "source": [
    "leaky_nodes = neighbours_by_pipe['p158']\n",
    "leaky_nodes"
   ]
  },
  {
   "cell_type": "markdown",
   "id": "d1d4e484",
   "metadata": {},
   "source": [
    "The unique neighbours of the two nodes:"
   ]
  },
  {
   "cell_type": "code",
   "execution_count": null,
   "id": "07d398b6",
   "metadata": {},
   "outputs": [],
   "source": [
    "# Return the k-hop neighbours of those nodes\n",
    "node_1_neighbours = nx.single_source_shortest_path_length(G, leaky_nodes[0], cutoff=3)\n",
    "node_2_neighbours = nx.single_source_shortest_path_length(G, leaky_nodes[1], cutoff=3)\n",
    "\n",
    "# As they can share neighbours, we need to get the unique neighbours\n",
    "n_hop_neighbours = [unique for unique in pd.DataFrame([node_1_neighbours, node_2_neighbours]).columns]\n",
    "print(\"First five, unique node neighbours of the leaky pipe: {}...\".format(n_hop_neighbours[:5]))"
   ]
  },
  {
   "cell_type": "markdown",
   "id": "3ae76930",
   "metadata": {},
   "source": [
    "We can devise a method to return all the pipes in a $k-$hop neighbourhood"
   ]
  },
  {
   "cell_type": "code",
   "execution_count": null,
   "id": "00e4124e",
   "metadata": {},
   "outputs": [],
   "source": [
    "pipes_in_neighbourhood = []                                                    # List of neighbourhood pipes\n",
    "for neighbour1 in n_hop_neighbours:                                            # For neighbour 1 \n",
    "    for neighbour2 in n_hop_neighbours:                                        # For neighbour 2\n",
    "        pipe = pipeByneighbourLookup(neighbour1,neighbour2,pipe_by_neighbours) # Look for a connecting pipe ...\n",
    "        if pipe:                                                               # ... with the neighbours and if found:\n",
    "            pipes_in_neighbourhood.append(pipe)                                # .... add it to the list"
   ]
  },
  {
   "cell_type": "code",
   "execution_count": null,
   "id": "511a32ea",
   "metadata": {},
   "outputs": [],
   "source": [
    "pipes_in_neighbourhood[:6]"
   ]
  },
  {
   "cell_type": "markdown",
   "id": "d5beb65b",
   "metadata": {},
   "source": [
    "Wrap this all to a single function:"
   ]
  },
  {
   "cell_type": "code",
   "execution_count": null,
   "id": "09b59d28",
   "metadata": {},
   "outputs": [],
   "source": [
    "def discoverNeighbourhood(pipe, neighbours_by_pipe, pipe_by_neighbours, graph, k=3):\n",
    "    \n",
    "    leaky_nodes = neighbours_by_pipe[pipe]\n",
    "    \n",
    "    node_1_neighbours = nx.single_source_shortest_path_length(graph, leaky_nodes[0], cutoff=k)\n",
    "    node_2_neighbours = nx.single_source_shortest_path_length(graph, leaky_nodes[1], cutoff=k)\n",
    "    \n",
    "    n_hop_neighbours = [unique for unique in pd.DataFrame([node_1_neighbours, node_2_neighbours]).columns]\n",
    "\n",
    "    pipes_in_neighbourhood = []                                                    # List of neighbourhood pipes\n",
    "    for neighbour1 in n_hop_neighbours:                                            # For neighbour 1 \n",
    "        for neighbour2 in n_hop_neighbours:                                        # For neighbour 2\n",
    "            pipe = pipeByneighbourLookup(neighbour1,neighbour2,pipe_by_neighbours) # Look for a connecting pipe ...\n",
    "            if pipe:                                                               # ... with the neighbours and if found:\n",
    "                pipes_in_neighbourhood.append(pipe)                                # .... add it to the list\n",
    "    \n",
    "    return pipes_in_neighbourhood, n_hop_neighbours"
   ]
  },
  {
   "cell_type": "code",
   "execution_count": null,
   "id": "1340e954",
   "metadata": {},
   "outputs": [],
   "source": [
    "discoverNeighbourhood(pipe='p158', \n",
    "                      neighbours_by_pipe=neighbours_by_pipe, \n",
    "                      pipe_by_neighbours=pipe_by_neighbours,\n",
    "                      graph=G,\n",
    "                      k=1)"
   ]
  },
  {
   "cell_type": "markdown",
   "id": "04866794",
   "metadata": {},
   "source": [
    "Okay let's now connect this together, we need to try to tune $\\text{CUSUM}$ for a couple of leaky and non leaky pipes."
   ]
  },
  {
   "cell_type": "code",
   "execution_count": null,
   "id": "b9afdff8",
   "metadata": {},
   "outputs": [],
   "source": [
    "pipes,nodes = discoverNeighbourhood(pipe='p158', \n",
    "                                    neighbours_by_pipe=neighbours_by_pipe, \n",
    "                                    pipe_by_neighbours=pipe_by_neighbours,\n",
    "                                    graph=G,\n",
    "                                    k=1)"
   ]
  },
  {
   "cell_type": "code",
   "execution_count": null,
   "id": "4b2baf47",
   "metadata": {},
   "outputs": [],
   "source": [
    "nodes"
   ]
  },
  {
   "cell_type": "code",
   "execution_count": null,
   "id": "e6b0ceb8",
   "metadata": {},
   "outputs": [],
   "source": [
    "pipes[:4]"
   ]
  },
  {
   "cell_type": "markdown",
   "id": "3cd9f92a",
   "metadata": {},
   "source": [
    "<a id='actual'></a>\n",
    "*Back to [Table of Contents](#toc)*"
   ]
  },
  {
   "cell_type": "markdown",
   "id": "d8988e40",
   "metadata": {},
   "source": [
    "### 4.3 CUSUM Tuning Actual\n",
    "For the CUSUM algorithm to work properly, it depends on tuning the parameters h and v to what is meant by a change in the data. According to Gustafsson (2000), this tuning can be performed following these steps:\n",
    "\n",
    "*         Start with a very large threshold. \n",
    "*         Choose drift to one half of the expected change, or adjust drift such that g = 0 more than 50% of the time.\n",
    "*         Then set the threshold so the required number of false alarms (this can be done automatically) or delay for detection is obtained.\n",
    "*         If faster detection is sought, try to decrease drift.\n",
    "*         If fewer false alarms are wanted, try to increase drift.\n",
    "*         If there is a subset of the change times that does not make sense, try to increase drift."
   ]
  },
  {
   "cell_type": "code",
   "execution_count": null,
   "id": "738e7e13",
   "metadata": {},
   "outputs": [],
   "source": [
    "window      = '7d'\n",
    "min_periods = determineWindowSize('12h',sampling_rate='5min')\n",
    "\n",
    "ta, tai, taf, amp = detect_cusum(error_by_node['n42'].rolling(window, min_periods).mean().dropna(), \n",
    "                                 threshold = 0.01, \n",
    "                                 drift     = 1e-7, \n",
    "                                 show      = True) "
   ]
  },
  {
   "cell_type": "code",
   "execution_count": null,
   "id": "eed7907e",
   "metadata": {},
   "outputs": [],
   "source": [
    "if 122 not in nodes:\n",
    "    nodes.append(122) \n",
    "    \n",
    "thresholds = {k:1e-3 for k in nodes}\n",
    "drifts     = {k:0 for k in nodes}\n",
    "window     = '7d'\n",
    "tas        = []\n",
    "\n",
    "for i,node in enumerate(nodes):\n",
    "    node_str = 'n'+str(node)\n",
    "    tas.append(detect_cusum(error_by_node[node_str].rolling(window, min_periods).mean(), \n",
    "                                     threshold = thresholds[node], \n",
    "                                     drift     = drifts[node], \n",
    "                                     show      = False)[0])"
   ]
  },
  {
   "cell_type": "raw",
   "id": "fd1dbb73",
   "metadata": {},
   "source": [
    "ta : 1D array_like [indi, indf], int\n",
    "    alarm time (index of when the change was detected).\n",
    "tai : 1D array_like, int\n",
    "    index of when the change started.\n",
    "taf : 1D array_like, int\n",
    "    index of when the change ended (if `ending` is True).\n",
    "amp : 1D array_like, float\n",
    "    amplitude of changes (if `ending` is True)."
   ]
  },
  {
   "cell_type": "markdown",
   "id": "33e2bf51",
   "metadata": {},
   "source": [
    "<a id='residual'></a>\n",
    "*Back to [Table of Contents](#toc)*"
   ]
  },
  {
   "cell_type": "markdown",
   "id": "24140324",
   "metadata": {},
   "source": [
    "## 5. Boem et al. Residual Analysis"
   ]
  },
  {
   "cell_type": "markdown",
   "id": "6a6dd124",
   "metadata": {},
   "source": [
    "Configure parameters:\n",
    "\n",
    "\\begin{equation}\n",
    "m = \\frac{ 7~\\text{days} }{ 5~\\text{minutes} } = 2016\n",
    "\\end{equation}\n",
    "\n",
    "\\begin{equation}\n",
    "\\alpha = 1 \n",
    "\\end{equation}"
   ]
  },
  {
   "cell_type": "code",
   "execution_count": null,
   "id": "652e7361",
   "metadata": {},
   "outputs": [],
   "source": [
    "window  = '7d'\n",
    "wdw_int = determineWindowSize(window,sampling_rate='5min')\n",
    "min_per = determineWindowSize('7d' ,sampling_rate='5min')\n",
    "alpha   = 1\n",
    "\n",
    "print(\"m:\\t{}\\nalpha:\\t{}\".format(wdw_int,alpha))"
   ]
  },
  {
   "cell_type": "markdown",
   "id": "067f3167",
   "metadata": {},
   "source": [
    "Standardise the signals to be analysed, by subtracting the mean and dividing by the std.dev:\n",
    "\n",
    "\\begin{equation}\n",
    "S(k) = \\frac{\\epsilon_i - \\mu_{\\epsilon_i} } { \\sigma_{\\epsilon_i}}\n",
    "\\end{equation}\n",
    "\n",
    "❗️**The signal should only be standardised from data under healthy condition** ❗️"
   ]
  },
  {
   "cell_type": "markdown",
   "id": "0cc1f8d7",
   "metadata": {},
   "source": [
    "So we've already found the timestamps of all the leakages:"
   ]
  },
  {
   "cell_type": "code",
   "execution_count": null,
   "id": "59e4ca69",
   "metadata": {},
   "outputs": [],
   "source": [
    "for pipe,time in leak_timestamps.items():\n",
    "    print(\"Pipe:\\t{}\\tStart:\\t{}\\tEnd:\\t{}\".format(pipe, time[0], time[-1]))"
   ]
  },
  {
   "cell_type": "markdown",
   "id": "07937efe",
   "metadata": {},
   "source": [
    "And we have a method for returning the $k$ neighbourhood of a pipe of interest"
   ]
  },
  {
   "cell_type": "code",
   "execution_count": null,
   "id": "ab224bc8",
   "metadata": {},
   "outputs": [],
   "source": [
    "pipes, nodes = discoverNeighbourhood('p31', neighbours_by_pipe, pipe_by_neighbours, G, k=3)\n",
    "nodes"
   ]
  },
  {
   "cell_type": "markdown",
   "id": "983c0c64",
   "metadata": {},
   "source": [
    "So we could use this to retrieve a list of date-time indices that denote faulty condition, for neighbouring nodes of leakages, that we then leave-out from the standardisation of the signal."
   ]
  },
  {
   "cell_type": "code",
   "execution_count": null,
   "id": "6fa9e5b3",
   "metadata": {},
   "outputs": [],
   "source": [
    "fault_times = {}\n",
    "\n",
    "# First populate the key variable with empty lists, that are the k-hop neighbouring nodes of leaky pipes:\n",
    "for pipe in leak_timestamps.keys():\n",
    "    _, nodes = discoverNeighbourhood(pipe, neighbours_by_pipe, pipe_by_neighbours, G, k=3)\n",
    "    for node in nodes:\n",
    "        fault_times[node] = []"
   ]
  },
  {
   "cell_type": "markdown",
   "id": "b7e466ae",
   "metadata": {},
   "source": [
    "So there are in fact:"
   ]
  },
  {
   "cell_type": "code",
   "execution_count": null,
   "id": "d52867c3",
   "metadata": {
    "scrolled": true
   },
   "outputs": [],
   "source": [
    "len(fault_times.keys())"
   ]
  },
  {
   "cell_type": "markdown",
   "id": "d8ecfbfc",
   "metadata": {},
   "source": [
    "nodes that we will consider affected by near-by leakage events given $k=3$"
   ]
  },
  {
   "cell_type": "markdown",
   "id": "87ad224e",
   "metadata": {},
   "source": [
    "Now that we've initialised the dictionary with empty lists, we can again iterate through the `leak_timestamps` and append them to the lists, thereby, taking care of not overwriting recurring nodes:\n",
    "\n",
    "*Note: recurring nodes, would be nodes that are in the $k$ neighbourhood of more than one leakages*"
   ]
  },
  {
   "cell_type": "code",
   "execution_count": null,
   "id": "69eb6303",
   "metadata": {},
   "outputs": [],
   "source": [
    "for pipe, time in leak_timestamps.items():\n",
    "    _, nodes = discoverNeighbourhood(pipe, neighbours_by_pipe, pipe_by_neighbours, G, k=3)\n",
    "    for node in nodes:\n",
    "        fault_times[node].append(time)"
   ]
  },
  {
   "cell_type": "code",
   "execution_count": null,
   "id": "78b1d611",
   "metadata": {},
   "outputs": [],
   "source": [
    "healthy = error_by_node['n199'][~error_by_node['n199'].index.isin(fault_times[199][0]) & \\\n",
    "                                ~error_by_node['n199'].index.isin(fault_times[199][1]) ].mean()"
   ]
  },
  {
   "cell_type": "markdown",
   "id": "02eea505",
   "metadata": {},
   "source": [
    "Okay so, calculate the averages and standard deviations to be subtracted in case of faulty nodes:"
   ]
  },
  {
   "cell_type": "code",
   "execution_count": null,
   "id": "f4a3645e",
   "metadata": {},
   "outputs": [],
   "source": [
    "faulty_avg = {}\n",
    "faulty_std = {}\n",
    "\n",
    "for node, dt_list in fault_times.items():\n",
    "    \n",
    "    n_faulty_periods = len(dt_list)\n",
    "    node_name        = 'n' + str(node)\n",
    "\n",
    "    if n_faulty_periods == 1:\n",
    "        faulty_avg[node_name] = error_by_node[node_name][~error_by_node[node_name].index.isin(fault_times[node][0])].mean()\n",
    "        faulty_std[node_name] = error_by_node[node_name][~error_by_node[node_name].index.isin(fault_times[node][0])].std()\n",
    "        \n",
    "    if n_faulty_periods == 2:\n",
    "        faulty_avg[node_name] = error_by_node[node_name][~error_by_node[node_name].index.isin(fault_times[node][0]) & \\\n",
    "                                                         ~error_by_node[node_name].index.isin(fault_times[node][1]) ].mean()\n",
    "        faulty_std[node_name] = error_by_node[node_name][~error_by_node[node_name].index.isin(fault_times[node][0]) & \\\n",
    "                                                         ~error_by_node[node_name].index.isin(fault_times[node][1]) ].std()\n",
    "    if n_faulty_periods == 3:\n",
    "        faulty_avg[node_name] = error_by_node[node_name][~error_by_node[node_name].index.isin(fault_times[node][0]) & \\\n",
    "                                                         ~error_by_node[node_name].index.isin(fault_times[node][1]) & \\\n",
    "                                                         ~error_by_node[node_name].index.isin(fault_times[node][2]) ].mean()\n",
    "        faulty_std[node_name] = error_by_node[node_name][~error_by_node[node_name].index.isin(fault_times[node][0]) & \\\n",
    "                                                         ~error_by_node[node_name].index.isin(fault_times[node][1]) & \\\n",
    "                                                         ~error_by_node[node_name].index.isin(fault_times[node][2]) ].std()\n",
    "        "
   ]
  },
  {
   "cell_type": "markdown",
   "id": "c9bb22c7",
   "metadata": {},
   "source": [
    "And standardise the residual signals given these averages and std.devs:"
   ]
  },
  {
   "cell_type": "code",
   "execution_count": null,
   "id": "3df3b8fa",
   "metadata": {
    "scrolled": false
   },
   "outputs": [],
   "source": [
    "signal = pd.DataFrame([])\n",
    "for node in error_by_node:\n",
    "    if node in faulty_avg.keys():\n",
    "        signal[node] = (error_by_node[node] - faulty_avg[node]) / faulty_std[node]\n",
    "    else:\n",
    "        signal[node] = (error_by_node[node] - error_by_node[node].mean()) / error_by_node[node].std()"
   ]
  },
  {
   "cell_type": "markdown",
   "id": "eb28073d",
   "metadata": {},
   "source": [
    "The signal to be assessed is then the absolute value of the rolling mean of the standardised \n",
    "residual signal\n",
    "\n",
    "\\begin{equation}\n",
    "|\\bar{r}^{(m)}(k)| = \\text{ABS} \\left( \\frac{1}{m} \\sum_{i=0}^{m} S(k-i) \\right)\n",
    "\\end{equation}"
   ]
  },
  {
   "cell_type": "code",
   "execution_count": null,
   "id": "7a988e6d",
   "metadata": {},
   "outputs": [],
   "source": [
    "r_m_k = abs(signal.rolling(window,min_per).mean().dropna())"
   ]
  },
  {
   "cell_type": "markdown",
   "id": "a7c59156",
   "metadata": {},
   "source": [
    "Now, for the threshold, we define it as: \n",
    "\n",
    "\\begin{equation}\n",
    "\\bar{\\rho}^{(m)}(k) = \\alpha \\bar{\\sigma}^{(m)}(k)\n",
    "\\end{equation}\n",
    "\n",
    "Where:\n",
    "\n",
    "\\begin{equation}\n",
    "(\\bar{\\sigma}^{(m),B}(k))^2 = \\frac{1}{m} \\sum_{j=0}^{m-1} (\\sigma^B(k-j))^2\n",
    "\\end{equation}\n",
    "\n",
    "... or effectively, the threshold is some value $\\alpha$ times the rolling standard deviation of the signal\n"
   ]
  },
  {
   "cell_type": "code",
   "execution_count": null,
   "id": "3f15bf01",
   "metadata": {},
   "outputs": [],
   "source": [
    "threshold = {}\n",
    "\n",
    "for node in error_by_node:\n",
    "    threshold[node] = alpha * signal[node].rolling(window,min_per).std().dropna() # ALPHA !!!\n",
    "\n",
    "threshold = pd.DataFrame(threshold)"
   ]
  },
  {
   "cell_type": "code",
   "execution_count": null,
   "id": "dae6506d",
   "metadata": {},
   "outputs": [],
   "source": [
    "faults = (r_m_k >= threshold).astype('int')"
   ]
  },
  {
   "cell_type": "markdown",
   "id": "b1949015",
   "metadata": {},
   "source": [
    "Analyse a single event, these pipes had leaks:"
   ]
  },
  {
   "cell_type": "code",
   "execution_count": null,
   "id": "f07895db",
   "metadata": {},
   "outputs": [],
   "source": [
    "l18.columns"
   ]
  },
  {
   "cell_type": "markdown",
   "id": "b86f242e",
   "metadata": {},
   "source": [
    "Let's pick out a single pipe failure and inspect the signal and detection in the neighbourhood"
   ]
  },
  {
   "cell_type": "code",
   "execution_count": null,
   "id": "2b23da92",
   "metadata": {},
   "outputs": [],
   "source": [
    "discoverNeighbourhood(pipe='p31', \n",
    "                      neighbours_by_pipe=neighbours_by_pipe, \n",
    "                      pipe_by_neighbours=pipe_by_neighbours,\n",
    "                      graph=G,\n",
    "                      k=1)"
   ]
  },
  {
   "cell_type": "code",
   "execution_count": null,
   "id": "235b4945",
   "metadata": {
    "scrolled": false
   },
   "outputs": [],
   "source": [
    "plt.figure(figsize=(16,6))\n",
    "\n",
    "node = 'n' + str( 40 )\n",
    "pipe = 'p31'\n",
    "\n",
    "# zoomed = leak_timestamps['p31']+pd.Timedelta(days=7)\n",
    "\n",
    "threshold[node].plot( label = r'Threshold $(\\bar{\\sigma}^{(m),B}(k)^2$)')\n",
    "r_m_k[    node].plot( label = r'Residual m.avg $|\\bar{r}^{(m)}(k)|$')\n",
    "(faults[  node]).plot(label =  'Classified faults r>p')\n",
    "(0.1*l18[ pipe]).plot(label =  'Actual leakage in {}'.format(pipe))\n",
    "plt.legend()\n",
    "plt.title('Node: {}\\nPipe leak @: {}'.format(node, pipe))\n",
    "plt.show()"
   ]
  },
  {
   "cell_type": "markdown",
   "id": "32a80a6d",
   "metadata": {},
   "source": [
    "Let's automate saving the residual signal analysis results of all leaky pipes and their 1-hop neighbours:"
   ]
  },
  {
   "cell_type": "raw",
   "id": "ab0f390b",
   "metadata": {
    "scrolled": false
   },
   "source": [
    "for pipe in l18.columns:\n",
    "\n",
    "    _,nodes = discoverNeighbourhood(pipe=pipe, \n",
    "                                    neighbours_by_pipe=neighbours_by_pipe, \n",
    "                                    pipe_by_neighbours=pipe_by_neighbours,\n",
    "                                    graph=G,\n",
    "                                    k=1)\n",
    "    for each in nodes:\n",
    "        \n",
    "        plt.figure(figsize=(16,6))\n",
    "        \n",
    "        node = 'n' + str( each )\n",
    "\n",
    "        # zoomed = leak_timestamps['p31']+pd.Timedelta(days=7)\n",
    "\n",
    "        threshold[node].plot( label = r'Threshold $(\\bar{\\sigma}^{(m),B}(k)^2$)')\n",
    "        r_m_k[    node].plot( label = r'Residual m.avg $|\\bar{r}^{(m)}(k)|$')\n",
    "        (faults[  node]).plot(label =  'Classified faults r>p')\n",
    "        (0.1*l18[ pipe]).plot(label =  'Actual leakage in {}'.format(pipe))\n",
    "        plt.legend()\n",
    "        plt.title('Node: {}\\nPipe leak @: {}'.format(node, pipe))\n",
    "        plt.savefig('leak_analysis/'+pipe+node)"
   ]
  },
  {
   "cell_type": "markdown",
   "id": "13aac113",
   "metadata": {},
   "source": [
    "Faults found in how many pipes (?)"
   ]
  },
  {
   "cell_type": "code",
   "execution_count": 82,
   "id": "e240b8a2",
   "metadata": {},
   "outputs": [
    {
     "data": {
      "text/plain": [
       "478"
      ]
     },
     "execution_count": 82,
     "metadata": {},
     "output_type": "execute_result"
    }
   ],
   "source": [
    "len(faults.columns) - ((faults.sum()<=0).astype('int')).sum()\n",
    "#  ^ total n pipes      ^ Mask out pipes with 0 faults   ^ and count them"
   ]
  },
  {
   "cell_type": "markdown",
   "id": "086d37e2",
   "metadata": {},
   "source": [
    "Times of fault?"
   ]
  },
  {
   "cell_type": "code",
   "execution_count": 83,
   "id": "2e141bb8",
   "metadata": {},
   "outputs": [],
   "source": [
    "fault_times = {}\n",
    "\n",
    "for node in faults:\n",
    "    fault_times[node] = faults.index[faults[node]>0]\n"
   ]
  },
  {
   "cell_type": "markdown",
   "id": "faabb680",
   "metadata": {},
   "source": [
    "Ok, so how do I get from this format: \n",
    "\n",
    "`faults`:\n",
    "\n",
    "| TimeStamp          |     n1      |   n2    |...|n782|\n",
    "| ------------------ | ----------- |---------|---|----|\n",
    "| 2018-01-01 00:00:00|     0       |    1    |...|  0 |\n",
    "| 2018-01-01 00:05:00|     1       |    0    |...|  0 |\n",
    "\n",
    "To this:\n",
    "\n",
    " `results.txt`:\n",
    "\n",
    "```\n",
    "p357, 2018-01-01 00:00:00\n",
    "p29,  2018-03-04 17:35:00\n",
    "...\n",
    "```\n",
    "\n",
    "My idea is the following algorithm:\n",
    "\n",
    "```\n",
    "\n",
    "leaks = {}\n",
    "\n",
    "for timestep in faults:\n",
    "    for node in faults:\n",
    "        if node has fault:\n",
    "            # Look up the k-neighbourhood nodes to the faulty one\n",
    "            neighbours = lookUpNeighbours(node, k=3)\n",
    "        \n",
    "            for neighbour in neighbours:\n",
    "                if neighbour has fault:\n",
    "                    # Find the shortest path between the k-neighbouring nodes\n",
    "                    connecting_edges = shortestPath(node, neighbour)\n",
    "                    \n",
    "                    # Classify the edge closest to the original faulty node as the leaky one\n",
    "                    leaky_pipe       = connecting_edges[0]\n",
    "                    \n",
    "                    #                        .\n",
    "                    #                        .\n",
    "                    #                        .\n",
    "                    # Run some test to see if we've already classified a leakage in \n",
    "                    # the k-neighbourhood of this pipe (?)\n",
    "                    # How do we go about doing this only for active events not\n",
    "                    # some ancient ones?\n",
    "                    # FIFO buffer of 'n' events?\n",
    "                    #                        .\n",
    "                    #                        .\n",
    "                    #                        .\n",
    "                    \n",
    "                    time_of_event    = timestep\n",
    "                    entry            = leaky_pipe + ', ' + time_of_event\n",
    "```"
   ]
  },
  {
   "cell_type": "markdown",
   "id": "8f34cada",
   "metadata": {},
   "source": [
    "**Okay!** <br>\n",
    "Devise a function to return the pipes that connect two pipes:"
   ]
  },
  {
   "cell_type": "code",
   "execution_count": 84,
   "id": "31a2c526",
   "metadata": {},
   "outputs": [],
   "source": [
    "def getShortestPath(graph, source, dest, attribute='name'):\n",
    "    \n",
    "    path          = nx.shortest_path(G)\n",
    "    edge_labels   = nx.get_edge_attributes(G, attribute)\n",
    "    path_by_edges = [edge_labels.get(x, edge_labels.get((x[1],x[0]))) \\\n",
    "                     for x in zip(path[source][dest], path[source][dest][1:])]\n",
    "    path_by_nodes = path[source][dest]\n",
    "\n",
    "    return path_by_edges, path_by_nodes"
   ]
  },
  {
   "cell_type": "markdown",
   "id": "ee5f1064",
   "metadata": {},
   "source": [
    "Measure performance"
   ]
  },
  {
   "cell_type": "code",
   "execution_count": 85,
   "id": "6bfe1a0f",
   "metadata": {},
   "outputs": [],
   "source": [
    "import time"
   ]
  },
  {
   "cell_type": "code",
   "execution_count": 86,
   "id": "3b217b6f",
   "metadata": {},
   "outputs": [
    {
     "name": "stdout",
     "output_type": "stream",
     "text": [
      "1.044644832611084\n",
      "p31\n"
     ]
    }
   ],
   "source": [
    "startTime = time.time()\n",
    "pipes, nodes = getShortestPath(G, 40, 389)\n",
    "print(time.time()-startTime)\n",
    "print(pipes[0])"
   ]
  },
  {
   "cell_type": "markdown",
   "id": "3ef22c96",
   "metadata": {},
   "source": [
    "Hmm, not good seeing the complexity of the computation, let's try a more minimal approach:"
   ]
  },
  {
   "cell_type": "code",
   "execution_count": 87,
   "id": "5cce57c4",
   "metadata": {},
   "outputs": [],
   "source": [
    "def firstPipeInPath(graph, source, dest, attribute='name'):\n",
    "    # Get shortest path was WAY too slow, (0.7 sec) so created minimal version that returns first pipe in path\n",
    "    path          = nx.shortest_path(G, source, dest)\n",
    "    edge_labels   = nx.get_edge_attributes(G, attribute)\n",
    "    try: \n",
    "        return edge_labels[(path[0], path[1])]\n",
    "    except:\n",
    "        return edge_labels[(path[1], path[0])]"
   ]
  },
  {
   "cell_type": "markdown",
   "id": "43039378",
   "metadata": {},
   "source": [
    "⏱⏱⏱ **Measure performance** ⏱⏱⏱ "
   ]
  },
  {
   "cell_type": "code",
   "execution_count": 88,
   "id": "3a02857e",
   "metadata": {},
   "outputs": [
    {
     "name": "stdout",
     "output_type": "stream",
     "text": [
      "0.0008208751678466797\n",
      "p31\n"
     ]
    }
   ],
   "source": [
    "startTime = time.time()\n",
    "pipe = firstPipeInPath(G, 40, 389)\n",
    "print(time.time()-startTime)\n",
    "print(pipe)"
   ]
  },
  {
   "cell_type": "markdown",
   "id": "038da5dd",
   "metadata": {},
   "source": [
    "🏃‍♀️  Thaaaaaat's gonna make some difference 😅🙈"
   ]
  },
  {
   "cell_type": "markdown",
   "id": "39fde74e",
   "metadata": {},
   "source": [
    "Make an indexable dictionary of the 3-hop neighbours, so as not to generate it every iteration"
   ]
  },
  {
   "cell_type": "code",
   "execution_count": 89,
   "id": "23e3eaaf",
   "metadata": {},
   "outputs": [],
   "source": [
    "_3_hop_neighbours = {}\n",
    "\n",
    "for node in np.arange(1,783):\n",
    "    _3_hop_neighbours[node] = sorted(list(nx.single_source_shortest_path_length(G, node, cutoff=3).keys()))\n",
    "    _3_hop_neighbours[node].remove(node)"
   ]
  },
  {
   "cell_type": "markdown",
   "id": "361f4d73",
   "metadata": {},
   "source": [
    "Re-address the column names of the faults dataframe to numeric node names, rather than `n1, n2, n3 ... ` strings"
   ]
  },
  {
   "cell_type": "code",
   "execution_count": 90,
   "id": "9c354ec6",
   "metadata": {},
   "outputs": [],
   "source": [
    "faults.columns=np.arange(1,783)"
   ]
  },
  {
   "cell_type": "code",
   "execution_count": 126,
   "id": "3e9156e9",
   "metadata": {},
   "outputs": [
    {
     "data": {
      "text/html": [
       "<div>\n",
       "<style scoped>\n",
       "    .dataframe tbody tr th:only-of-type {\n",
       "        vertical-align: middle;\n",
       "    }\n",
       "\n",
       "    .dataframe tbody tr th {\n",
       "        vertical-align: top;\n",
       "    }\n",
       "\n",
       "    .dataframe thead th {\n",
       "        text-align: right;\n",
       "    }\n",
       "</style>\n",
       "<table border=\"1\" class=\"dataframe\">\n",
       "  <thead>\n",
       "    <tr style=\"text-align: right;\">\n",
       "      <th></th>\n",
       "      <th>1</th>\n",
       "      <th>2</th>\n",
       "      <th>3</th>\n",
       "      <th>4</th>\n",
       "      <th>5</th>\n",
       "      <th>6</th>\n",
       "      <th>7</th>\n",
       "      <th>8</th>\n",
       "      <th>9</th>\n",
       "      <th>10</th>\n",
       "      <th>...</th>\n",
       "      <th>773</th>\n",
       "      <th>774</th>\n",
       "      <th>775</th>\n",
       "      <th>776</th>\n",
       "      <th>777</th>\n",
       "      <th>778</th>\n",
       "      <th>779</th>\n",
       "      <th>780</th>\n",
       "      <th>781</th>\n",
       "      <th>782</th>\n",
       "    </tr>\n",
       "  </thead>\n",
       "  <tbody>\n",
       "    <tr>\n",
       "      <th>2018-01-25 08:50:00</th>\n",
       "      <td>0</td>\n",
       "      <td>0</td>\n",
       "      <td>0</td>\n",
       "      <td>0</td>\n",
       "      <td>0</td>\n",
       "      <td>0</td>\n",
       "      <td>0</td>\n",
       "      <td>0</td>\n",
       "      <td>0</td>\n",
       "      <td>0</td>\n",
       "      <td>...</td>\n",
       "      <td>0</td>\n",
       "      <td>0</td>\n",
       "      <td>0</td>\n",
       "      <td>0</td>\n",
       "      <td>0</td>\n",
       "      <td>0</td>\n",
       "      <td>0</td>\n",
       "      <td>0</td>\n",
       "      <td>0</td>\n",
       "      <td>0</td>\n",
       "    </tr>\n",
       "    <tr>\n",
       "      <th>2018-01-25 08:55:00</th>\n",
       "      <td>0</td>\n",
       "      <td>0</td>\n",
       "      <td>0</td>\n",
       "      <td>0</td>\n",
       "      <td>0</td>\n",
       "      <td>0</td>\n",
       "      <td>0</td>\n",
       "      <td>0</td>\n",
       "      <td>0</td>\n",
       "      <td>0</td>\n",
       "      <td>...</td>\n",
       "      <td>0</td>\n",
       "      <td>0</td>\n",
       "      <td>0</td>\n",
       "      <td>0</td>\n",
       "      <td>0</td>\n",
       "      <td>0</td>\n",
       "      <td>0</td>\n",
       "      <td>0</td>\n",
       "      <td>0</td>\n",
       "      <td>0</td>\n",
       "    </tr>\n",
       "    <tr>\n",
       "      <th>2018-01-25 09:00:00</th>\n",
       "      <td>0</td>\n",
       "      <td>0</td>\n",
       "      <td>0</td>\n",
       "      <td>0</td>\n",
       "      <td>0</td>\n",
       "      <td>0</td>\n",
       "      <td>0</td>\n",
       "      <td>0</td>\n",
       "      <td>0</td>\n",
       "      <td>0</td>\n",
       "      <td>...</td>\n",
       "      <td>0</td>\n",
       "      <td>0</td>\n",
       "      <td>0</td>\n",
       "      <td>0</td>\n",
       "      <td>0</td>\n",
       "      <td>0</td>\n",
       "      <td>0</td>\n",
       "      <td>0</td>\n",
       "      <td>0</td>\n",
       "      <td>0</td>\n",
       "    </tr>\n",
       "    <tr>\n",
       "      <th>2018-01-25 09:05:00</th>\n",
       "      <td>0</td>\n",
       "      <td>0</td>\n",
       "      <td>0</td>\n",
       "      <td>0</td>\n",
       "      <td>0</td>\n",
       "      <td>0</td>\n",
       "      <td>0</td>\n",
       "      <td>0</td>\n",
       "      <td>0</td>\n",
       "      <td>0</td>\n",
       "      <td>...</td>\n",
       "      <td>0</td>\n",
       "      <td>0</td>\n",
       "      <td>0</td>\n",
       "      <td>0</td>\n",
       "      <td>0</td>\n",
       "      <td>0</td>\n",
       "      <td>0</td>\n",
       "      <td>0</td>\n",
       "      <td>0</td>\n",
       "      <td>0</td>\n",
       "    </tr>\n",
       "    <tr>\n",
       "      <th>2018-01-25 09:10:00</th>\n",
       "      <td>0</td>\n",
       "      <td>0</td>\n",
       "      <td>0</td>\n",
       "      <td>0</td>\n",
       "      <td>0</td>\n",
       "      <td>0</td>\n",
       "      <td>0</td>\n",
       "      <td>0</td>\n",
       "      <td>0</td>\n",
       "      <td>0</td>\n",
       "      <td>...</td>\n",
       "      <td>0</td>\n",
       "      <td>0</td>\n",
       "      <td>0</td>\n",
       "      <td>0</td>\n",
       "      <td>0</td>\n",
       "      <td>0</td>\n",
       "      <td>0</td>\n",
       "      <td>0</td>\n",
       "      <td>0</td>\n",
       "      <td>0</td>\n",
       "    </tr>\n",
       "    <tr>\n",
       "      <th>...</th>\n",
       "      <td>...</td>\n",
       "      <td>...</td>\n",
       "      <td>...</td>\n",
       "      <td>...</td>\n",
       "      <td>...</td>\n",
       "      <td>...</td>\n",
       "      <td>...</td>\n",
       "      <td>...</td>\n",
       "      <td>...</td>\n",
       "      <td>...</td>\n",
       "      <td>...</td>\n",
       "      <td>...</td>\n",
       "      <td>...</td>\n",
       "      <td>...</td>\n",
       "      <td>...</td>\n",
       "      <td>...</td>\n",
       "      <td>...</td>\n",
       "      <td>...</td>\n",
       "      <td>...</td>\n",
       "      <td>...</td>\n",
       "      <td>...</td>\n",
       "    </tr>\n",
       "    <tr>\n",
       "      <th>2018-12-31 23:35:00</th>\n",
       "      <td>0</td>\n",
       "      <td>0</td>\n",
       "      <td>0</td>\n",
       "      <td>0</td>\n",
       "      <td>0</td>\n",
       "      <td>0</td>\n",
       "      <td>0</td>\n",
       "      <td>0</td>\n",
       "      <td>0</td>\n",
       "      <td>0</td>\n",
       "      <td>...</td>\n",
       "      <td>0</td>\n",
       "      <td>0</td>\n",
       "      <td>0</td>\n",
       "      <td>0</td>\n",
       "      <td>0</td>\n",
       "      <td>0</td>\n",
       "      <td>0</td>\n",
       "      <td>0</td>\n",
       "      <td>0</td>\n",
       "      <td>0</td>\n",
       "    </tr>\n",
       "    <tr>\n",
       "      <th>2018-12-31 23:40:00</th>\n",
       "      <td>0</td>\n",
       "      <td>0</td>\n",
       "      <td>0</td>\n",
       "      <td>0</td>\n",
       "      <td>0</td>\n",
       "      <td>0</td>\n",
       "      <td>0</td>\n",
       "      <td>0</td>\n",
       "      <td>0</td>\n",
       "      <td>0</td>\n",
       "      <td>...</td>\n",
       "      <td>0</td>\n",
       "      <td>0</td>\n",
       "      <td>0</td>\n",
       "      <td>0</td>\n",
       "      <td>0</td>\n",
       "      <td>0</td>\n",
       "      <td>0</td>\n",
       "      <td>0</td>\n",
       "      <td>0</td>\n",
       "      <td>0</td>\n",
       "    </tr>\n",
       "    <tr>\n",
       "      <th>2018-12-31 23:45:00</th>\n",
       "      <td>0</td>\n",
       "      <td>0</td>\n",
       "      <td>0</td>\n",
       "      <td>0</td>\n",
       "      <td>0</td>\n",
       "      <td>0</td>\n",
       "      <td>0</td>\n",
       "      <td>0</td>\n",
       "      <td>0</td>\n",
       "      <td>0</td>\n",
       "      <td>...</td>\n",
       "      <td>0</td>\n",
       "      <td>0</td>\n",
       "      <td>0</td>\n",
       "      <td>0</td>\n",
       "      <td>0</td>\n",
       "      <td>0</td>\n",
       "      <td>0</td>\n",
       "      <td>0</td>\n",
       "      <td>0</td>\n",
       "      <td>0</td>\n",
       "    </tr>\n",
       "    <tr>\n",
       "      <th>2018-12-31 23:50:00</th>\n",
       "      <td>0</td>\n",
       "      <td>0</td>\n",
       "      <td>0</td>\n",
       "      <td>0</td>\n",
       "      <td>0</td>\n",
       "      <td>0</td>\n",
       "      <td>0</td>\n",
       "      <td>0</td>\n",
       "      <td>0</td>\n",
       "      <td>0</td>\n",
       "      <td>...</td>\n",
       "      <td>0</td>\n",
       "      <td>0</td>\n",
       "      <td>0</td>\n",
       "      <td>0</td>\n",
       "      <td>0</td>\n",
       "      <td>0</td>\n",
       "      <td>0</td>\n",
       "      <td>0</td>\n",
       "      <td>0</td>\n",
       "      <td>0</td>\n",
       "    </tr>\n",
       "    <tr>\n",
       "      <th>2018-12-31 23:55:00</th>\n",
       "      <td>0</td>\n",
       "      <td>0</td>\n",
       "      <td>0</td>\n",
       "      <td>0</td>\n",
       "      <td>0</td>\n",
       "      <td>0</td>\n",
       "      <td>0</td>\n",
       "      <td>0</td>\n",
       "      <td>0</td>\n",
       "      <td>0</td>\n",
       "      <td>...</td>\n",
       "      <td>0</td>\n",
       "      <td>0</td>\n",
       "      <td>0</td>\n",
       "      <td>0</td>\n",
       "      <td>0</td>\n",
       "      <td>0</td>\n",
       "      <td>0</td>\n",
       "      <td>0</td>\n",
       "      <td>0</td>\n",
       "      <td>0</td>\n",
       "    </tr>\n",
       "  </tbody>\n",
       "</table>\n",
       "<p>98102 rows × 782 columns</p>\n",
       "</div>"
      ],
      "text/plain": [
       "                     1    2    3    4    5    6    7    8    9    10   ...  \\\n",
       "2018-01-25 08:50:00    0    0    0    0    0    0    0    0    0    0  ...   \n",
       "2018-01-25 08:55:00    0    0    0    0    0    0    0    0    0    0  ...   \n",
       "2018-01-25 09:00:00    0    0    0    0    0    0    0    0    0    0  ...   \n",
       "2018-01-25 09:05:00    0    0    0    0    0    0    0    0    0    0  ...   \n",
       "2018-01-25 09:10:00    0    0    0    0    0    0    0    0    0    0  ...   \n",
       "...                  ...  ...  ...  ...  ...  ...  ...  ...  ...  ...  ...   \n",
       "2018-12-31 23:35:00    0    0    0    0    0    0    0    0    0    0  ...   \n",
       "2018-12-31 23:40:00    0    0    0    0    0    0    0    0    0    0  ...   \n",
       "2018-12-31 23:45:00    0    0    0    0    0    0    0    0    0    0  ...   \n",
       "2018-12-31 23:50:00    0    0    0    0    0    0    0    0    0    0  ...   \n",
       "2018-12-31 23:55:00    0    0    0    0    0    0    0    0    0    0  ...   \n",
       "\n",
       "                     773  774  775  776  777  778  779  780  781  782  \n",
       "2018-01-25 08:50:00    0    0    0    0    0    0    0    0    0    0  \n",
       "2018-01-25 08:55:00    0    0    0    0    0    0    0    0    0    0  \n",
       "2018-01-25 09:00:00    0    0    0    0    0    0    0    0    0    0  \n",
       "2018-01-25 09:05:00    0    0    0    0    0    0    0    0    0    0  \n",
       "2018-01-25 09:10:00    0    0    0    0    0    0    0    0    0    0  \n",
       "...                  ...  ...  ...  ...  ...  ...  ...  ...  ...  ...  \n",
       "2018-12-31 23:35:00    0    0    0    0    0    0    0    0    0    0  \n",
       "2018-12-31 23:40:00    0    0    0    0    0    0    0    0    0    0  \n",
       "2018-12-31 23:45:00    0    0    0    0    0    0    0    0    0    0  \n",
       "2018-12-31 23:50:00    0    0    0    0    0    0    0    0    0    0  \n",
       "2018-12-31 23:55:00    0    0    0    0    0    0    0    0    0    0  \n",
       "\n",
       "[98102 rows x 782 columns]"
      ]
     },
     "execution_count": 126,
     "metadata": {},
     "output_type": "execute_result"
    }
   ],
   "source": [
    "faults[5000:]"
   ]
  },
  {
   "cell_type": "code",
   "execution_count": null,
   "id": "098b561e",
   "metadata": {
    "scrolled": true
   },
   "outputs": [],
   "source": [
    "startTime=time.time()\n",
    "leaks = {}\n",
    "\n",
    "for timestep in faults.index[5000:5100]:\n",
    "    for node in faults:\n",
    "        if faults[node][timestep]:\n",
    "            for nbor in _3_hop_neighbours[node]:\n",
    "                if faults[nbor][timestep]:\n",
    "                    pipe     = firstPipeInPath(G, node, nbor)\n",
    "                    pipes,_  = discoverNeighbourhood(pipe, neighbours_by_pipe, pipe_by_neighbours, G, k=3)\n",
    "                    check    = any(pipe in pipes for pipe in list(leaks.keys()))\n",
    "                    if check:\n",
    "                        break\n",
    "                    else:\n",
    "                        leaks[pipe]=timestep\n",
    "                        \n",
    "print(time.time()-startTime)"
   ]
  },
  {
   "cell_type": "code",
   "execution_count": null,
   "id": "c5d51720",
   "metadata": {},
   "outputs": [],
   "source": [
    "leaks"
   ]
  },
  {
   "cell_type": "code",
   "execution_count": 203,
   "id": "2e79db17",
   "metadata": {},
   "outputs": [],
   "source": [
    "np_faults = faults[5000:5100].to_numpy()"
   ]
  },
  {
   "cell_type": "code",
   "execution_count": 204,
   "id": "bac2c5fa",
   "metadata": {},
   "outputs": [
    {
     "data": {
      "text/plain": [
       "(100, 782)"
      ]
     },
     "execution_count": 204,
     "metadata": {},
     "output_type": "execute_result"
    }
   ],
   "source": [
    "np_faults.shape"
   ]
  },
  {
   "cell_type": "code",
   "execution_count": 215,
   "id": "0be58691",
   "metadata": {
    "scrolled": true
   },
   "outputs": [
    {
     "name": "stdout",
     "output_type": "stream",
     "text": [
      "14.848704099655151\n"
     ]
    }
   ],
   "source": [
    "startTime=time.time()\n",
    "leaks = {}\n",
    "\n",
    "for timestep in range(np_faults.shape[0]):\n",
    "    for node in range(np_faults.shape[1]):\n",
    "        if np_faults[timestep][node]:\n",
    "            for nbor in _3_hop_neighbours[node]:\n",
    "                if np_faults[timestep][node]:\n",
    "                    pipe     = firstPipeInPath(G, node, nbor)\n",
    "                    pipes,_  = discoverNeighbourhood(pipe, neighbours_by_pipe, pipe_by_neighbours, G, k=3)\n",
    "                    check    = any(pipe in pipes for pipe in list(leaks.keys()))\n",
    "                    if check:\n",
    "                        break\n",
    "                    else:\n",
    "                        leaks[pipe]=timestep\n",
    "                        \n",
    "print(time.time()-startTime)"
   ]
  },
  {
   "cell_type": "code",
   "execution_count": 140,
   "id": "07be7d42",
   "metadata": {},
   "outputs": [
    {
     "data": {
      "text/plain": [
       "DatetimeIndex(['2018-01-25 08:50:00', '2018-01-25 08:55:00',\n",
       "               '2018-01-25 09:00:00', '2018-01-25 09:05:00',\n",
       "               '2018-01-25 09:10:00', '2018-01-25 09:15:00',\n",
       "               '2018-01-25 09:20:00', '2018-01-25 09:25:00',\n",
       "               '2018-01-25 09:30:00', '2018-01-25 09:35:00'],\n",
       "              dtype='datetime64[ns]', freq='5T')"
      ]
     },
     "execution_count": 140,
     "metadata": {},
     "output_type": "execute_result"
    }
   ],
   "source": [
    "faults.index[5000:5010]"
   ]
  },
  {
   "cell_type": "code",
   "execution_count": 143,
   "id": "d0e0db50",
   "metadata": {},
   "outputs": [
    {
     "data": {
      "text/plain": [
       "Timestamp('2018-01-08 01:00:00', freq='5T')"
      ]
     },
     "execution_count": 143,
     "metadata": {},
     "output_type": "execute_result"
    }
   ],
   "source": [
    "faults.index[10]"
   ]
  },
  {
   "cell_type": "code",
   "execution_count": 177,
   "id": "b2ddb6a8",
   "metadata": {},
   "outputs": [],
   "source": [
    "i          = 0\n",
    "start_time = faults.index[i]\n",
    "end_time   = faults.index[100]"
   ]
  },
  {
   "cell_type": "code",
   "execution_count": 190,
   "id": "ac68613b",
   "metadata": {},
   "outputs": [
    {
     "name": "stdout",
     "output_type": "stream",
     "text": [
      "0.0001227855682373047\n"
     ]
    }
   ],
   "source": [
    "startTime = time.time()\n",
    "while (start_time != end_time):\n",
    "    i+=1\n",
    "    start_time = faults.index[i]\n",
    "print(time.time()-startTime)"
   ]
  },
  {
   "cell_type": "code",
   "execution_count": 193,
   "id": "4a71004f",
   "metadata": {},
   "outputs": [
    {
     "name": "stdout",
     "output_type": "stream",
     "text": [
      "0.0004909038543701172\n"
     ]
    }
   ],
   "source": [
    "startTime = time.time()\n",
    "for timestamp in faults.index[:100]:\n",
    "    timestamp\n",
    "print(time.time()-startTime)"
   ]
  },
  {
   "cell_type": "markdown",
   "id": "884b7c87",
   "metadata": {},
   "source": [
    ".... mmmm with this performance, it would still take a whole:"
   ]
  },
  {
   "cell_type": "code",
   "execution_count": 130,
   "id": "690d4e2b",
   "metadata": {},
   "outputs": [
    {
     "data": {
      "text/plain": [
       "3.7960000000000003"
      ]
     },
     "execution_count": 130,
     "metadata": {},
     "output_type": "execute_result"
    }
   ],
   "source": [
    "13/100*105120/60/60"
   ]
  },
  {
   "cell_type": "markdown",
   "id": "85c8f36b",
   "metadata": {},
   "source": [
    "**HOURS to generate the 🤬🤬🤬 results**"
   ]
  },
  {
   "cell_type": "markdown",
   "id": "54ba7463",
   "metadata": {},
   "source": [
    "Multi-processing:"
   ]
  },
  {
   "cell_type": "code",
   "execution_count": 103,
   "id": "2d0e2b9f",
   "metadata": {},
   "outputs": [],
   "source": [
    "import multiprocessing as mp"
   ]
  },
  {
   "cell_type": "code",
   "execution_count": 104,
   "id": "c3d491d5",
   "metadata": {},
   "outputs": [],
   "source": [
    "manager = mp.Manager()\n",
    "LEAKS   = manager.dict()"
   ]
  },
  {
   "cell_type": "code",
   "execution_count": 105,
   "id": "1b0614ed",
   "metadata": {},
   "outputs": [],
   "source": [
    "def leakCandidateSelection(LEAKS, faults, graph, _3_hop_neighbours, neighbours_by_pipe, pipe_by_neighbours, k=3):\n",
    "    #leaks = {}\n",
    "\n",
    "    for timestep in faults.index[:10]:\n",
    "        for node in faults:\n",
    "            if faults[node][timestep]:\n",
    "                for nbor in _3_hop_neighbours[node]:\n",
    "                    if faults[nbor][timestep]:\n",
    "                        pipe     = firstPipeInPath(G, node, nbor)\n",
    "                        pipes,_  = discoverNeighbourhood(pipe, neighbours_by_pipe, pipe_by_neighbours, G, k=k)\n",
    "                        check    = any(pipe in pipes for pipe in list(LEAKS.keys()))\n",
    "                        if check:\n",
    "                            break\n",
    "                        else:\n",
    "                            LEAKS[pipe]=timestep"
   ]
  },
  {
   "cell_type": "raw",
   "id": "4a29371c",
   "metadata": {},
   "source": [
    "if __name__ ==  '__main__': \n",
    "    startTime=time.time()\n",
    "    with mp.Pool(processes=mp.cpu_count()) as pool:\n",
    "        pool.starmap(leakCandidateSelection, [(LEAKS, faults, G, _3_hop_neighbours, neighbours_by_pipe, pipe_by_neighbours,3)])\n",
    "    pool.close()\n",
    "    pool.join()\n",
    "    print(time.time()-startTime)"
   ]
  },
  {
   "cell_type": "code",
   "execution_count": 110,
   "id": "68b2a4e4",
   "metadata": {},
   "outputs": [
    {
     "name": "stdout",
     "output_type": "stream",
     "text": [
      "6.540585994720459\n"
     ]
    }
   ],
   "source": [
    "startTime=time.time()\n",
    "p1 = mp.Process(target=leakCandidateSelection, \n",
    "               args=(LEAKS, faults, G, _3_hop_neighbours, neighbours_by_pipe, pipe_by_neighbours,3))\n",
    "p2 = mp.Process(target=leakCandidateSelection, \n",
    "               args=(LEAKS, faults, G, _3_hop_neighbours, neighbours_by_pipe, pipe_by_neighbours,3))\n",
    "p3 = mp.Process(target=leakCandidateSelection, \n",
    "               args=(LEAKS, faults, G, _3_hop_neighbours, neighbours_by_pipe, pipe_by_neighbours,3))\n",
    "\n",
    "p1.start()\n",
    "p2.start()\n",
    "p3.start()\n",
    "p1.join()\n",
    "p2.join()\n",
    "p3.join()\n",
    "print(time.time()-startTime)"
   ]
  },
  {
   "cell_type": "code",
   "execution_count": 101,
   "id": "8f56f57e",
   "metadata": {
    "scrolled": true
   },
   "outputs": [
    {
     "data": {
      "text/plain": [
       "{'p241': Timestamp('2018-01-08 00:10:00', freq='5T'),\n",
       " 'p245': Timestamp('2018-01-08 00:10:00', freq='5T'),\n",
       " 'p280': Timestamp('2018-01-08 00:10:00', freq='5T'),\n",
       " 'p34': Timestamp('2018-01-08 00:10:00', freq='5T'),\n",
       " 'p35': Timestamp('2018-01-08 00:10:00', freq='5T'),\n",
       " 'p36': Timestamp('2018-01-08 00:10:00', freq='5T'),\n",
       " 'p37': Timestamp('2018-01-08 00:10:00', freq='5T'),\n",
       " 'p385': Timestamp('2018-01-08 00:10:00', freq='5T'),\n",
       " 'p416': Timestamp('2018-01-08 00:10:00', freq='5T'),\n",
       " 'p95': Timestamp('2018-01-08 00:10:00', freq='5T'),\n",
       " 'p98': Timestamp('2018-01-08 00:10:00', freq='5T'),\n",
       " 'p110': Timestamp('2018-01-08 00:10:00', freq='5T'),\n",
       " 'p359': Timestamp('2018-01-08 00:10:00', freq='5T'),\n",
       " 'p90': Timestamp('2018-01-08 00:10:00', freq='5T'),\n",
       " 'p476': Timestamp('2018-01-08 00:10:00', freq='5T'),\n",
       " 'p113': Timestamp('2018-01-08 00:10:00', freq='5T'),\n",
       " 'p114': Timestamp('2018-01-08 00:10:00', freq='5T'),\n",
       " 'p522': Timestamp('2018-01-08 00:10:00', freq='5T'),\n",
       " 'p529': Timestamp('2018-01-08 00:10:00', freq='5T'),\n",
       " 'p117': Timestamp('2018-01-08 00:10:00', freq='5T'),\n",
       " 'p548': Timestamp('2018-01-08 00:10:00', freq='5T'),\n",
       " 'p87': Timestamp('2018-01-08 00:10:00', freq='5T'),\n",
       " 'p610': Timestamp('2018-01-08 00:10:00', freq='5T'),\n",
       " 'p206': Timestamp('2018-01-08 00:10:00', freq='5T'),\n",
       " 'p658': Timestamp('2018-01-08 00:10:00', freq='5T'),\n",
       " 'p145': Timestamp('2018-01-08 00:10:00', freq='5T'),\n",
       " 'p57': Timestamp('2018-01-08 00:10:00', freq='5T'),\n",
       " 'p154': Timestamp('2018-01-08 00:10:00', freq='5T'),\n",
       " 'p67': Timestamp('2018-01-08 00:10:00', freq='5T'),\n",
       " 'p166': Timestamp('2018-01-08 00:10:00', freq='5T'),\n",
       " 'p761': Timestamp('2018-01-08 00:10:00', freq='5T'),\n",
       " 'p768': Timestamp('2018-01-08 00:10:00', freq='5T'),\n",
       " 'p171': Timestamp('2018-01-08 00:10:00', freq='5T'),\n",
       " 'p215': Timestamp('2018-01-08 00:10:00', freq='5T'),\n",
       " 'p773': Timestamp('2018-01-08 00:10:00', freq='5T'),\n",
       " 'p784': Timestamp('2018-01-08 00:10:00', freq='5T'),\n",
       " 'p65': Timestamp('2018-01-08 00:10:00', freq='5T'),\n",
       " 'p70': Timestamp('2018-01-08 00:10:00', freq='5T'),\n",
       " 'p182': Timestamp('2018-01-08 00:10:00', freq='5T'),\n",
       " 'p185': Timestamp('2018-01-08 00:10:00', freq='5T'),\n",
       " 'p216': Timestamp('2018-01-08 00:10:00', freq='5T'),\n",
       " 'p69': Timestamp('2018-01-08 00:10:00', freq='5T'),\n",
       " 'p221': Timestamp('2018-01-08 00:10:00', freq='5T'),\n",
       " 'p194': Timestamp('2018-01-08 00:10:00', freq='5T'),\n",
       " 'p896': Timestamp('2018-01-08 00:10:00', freq='5T'),\n",
       " 'p324': Timestamp('2018-01-08 00:10:00', freq='5T'),\n",
       " 'p562': Timestamp('2018-01-08 00:10:00', freq='5T'),\n",
       " 'p578': Timestamp('2018-01-08 00:10:00', freq='5T'),\n",
       " 'p619': Timestamp('2018-01-08 00:10:00', freq='5T'),\n",
       " 'p631': Timestamp('2018-01-08 00:10:00', freq='5T'),\n",
       " 'p668': Timestamp('2018-01-08 00:10:00', freq='5T'),\n",
       " 'p802': Timestamp('2018-01-08 00:10:00', freq='5T'),\n",
       " 'p809': Timestamp('2018-01-08 00:10:00', freq='5T'),\n",
       " 'p875': Timestamp('2018-01-08 00:10:00', freq='5T'),\n",
       " 'p881': Timestamp('2018-01-08 00:10:00', freq='5T'),\n",
       " 'p62': Timestamp('2018-01-08 03:10:00', freq='5T')}"
      ]
     },
     "execution_count": 101,
     "metadata": {},
     "output_type": "execute_result"
    }
   ],
   "source": [
    "LEAKS.copy()"
   ]
  },
  {
   "cell_type": "code",
   "execution_count": 102,
   "id": "b707dae5",
   "metadata": {},
   "outputs": [
    {
     "data": {
      "text/plain": [
       "56"
      ]
     },
     "execution_count": 102,
     "metadata": {},
     "output_type": "execute_result"
    }
   ],
   "source": [
    "len(LEAKS.copy())"
   ]
  },
  {
   "cell_type": "code",
   "execution_count": 570,
   "id": "99b80db3",
   "metadata": {},
   "outputs": [
    {
     "name": "stdout",
     "output_type": "stream",
     "text": [
      "2.21 ms ± 51.5 µs per loop (mean ± std. dev. of 7 runs, 100 loops each)\n"
     ]
    }
   ],
   "source": [
    "%%timeit\n",
    "pipe     = firstPipeInPath(G, node, nbor)\n",
    "pipes,_  = discoverNeighbourhood(pipe, neighbours_by_pipe, pipe_by_neighbours, G, k=3)\n",
    "check    = any(pipes for keys in leaks)"
   ]
  },
  {
   "cell_type": "code",
   "execution_count": 571,
   "id": "cbc2917e",
   "metadata": {},
   "outputs": [
    {
     "name": "stdout",
     "output_type": "stream",
     "text": [
      "2.28 ms ± 140 µs per loop (mean ± std. dev. of 7 runs, 100 loops each)\n"
     ]
    }
   ],
   "source": [
    "%%timeit\n",
    "pipe     = firstPipeInPath(G, node, nbor)\n",
    "check    = any(discoverNeighbourhood(pipe, neighbours_by_pipe, pipe_by_neighbours, G, k=3)[0] for keys in leaks)"
   ]
  },
  {
   "cell_type": "code",
   "execution_count": 572,
   "id": "616dbe08",
   "metadata": {},
   "outputs": [
    {
     "name": "stdout",
     "output_type": "stream",
     "text": [
      "2.31 ms ± 90.8 µs per loop (mean ± std. dev. of 7 runs, 100 loops each)\n"
     ]
    }
   ],
   "source": [
    "%%timeit\n",
    "pipe     = firstPipeInPath(G, node, nbor)\n",
    "check    = any(discoverNeighbourhood(pipe, neighbours_by_pipe, pipe_by_neighbours, G, k=3)[0] for keys in leaks)\n",
    "if check in leaks:\n",
    "    pass"
   ]
  },
  {
   "cell_type": "code",
   "execution_count": 573,
   "id": "f5a8db0f",
   "metadata": {},
   "outputs": [
    {
     "name": "stdout",
     "output_type": "stream",
     "text": [
      "2.29 ms ± 81.1 µs per loop (mean ± std. dev. of 7 runs, 100 loops each)\n"
     ]
    }
   ],
   "source": [
    "%%timeit\n",
    "pipe     = firstPipeInPath(G, node, nbor)\n",
    "if any(discoverNeighbourhood(pipe, neighbours_by_pipe, pipe_by_neighbours, G, k=3)[0] for keys in leaks) in leaks:\n",
    "    pass"
   ]
  },
  {
   "cell_type": "markdown",
   "id": "d789db17",
   "metadata": {},
   "source": [
    "## Adaptive threshold for CUSUM\n",
    "\n",
    "Trying out the simulation described in: [Adaptive threshold computation for CUSUM-type procedures in change detection and isolation problems](https://www.sciencedirect.com/science/article/pii/S0167947308000212)"
   ]
  },
  {
   "cell_type": "code",
   "execution_count": 556,
   "id": "3874a46b",
   "metadata": {},
   "outputs": [],
   "source": [
    "def gaussianWhiteNoise(mean=0, variance=2e-4, n_samples=1000):\n",
    "    std = np.sqrt(variance)\n",
    "    num_samples = 1000\n",
    "    return np.random.normal(mean, std, size=num_samples)"
   ]
  },
  {
   "cell_type": "code",
   "execution_count": 557,
   "id": "7c25f672",
   "metadata": {},
   "outputs": [],
   "source": [
    "def faultMode(healthy_val=0.5, faulty_val=0.4, probability_of_fault=0.001):\n",
    "    return healthy_val if np.random.uniform(0,1) > probability_of_fault else faulty_val"
   ]
  },
  {
   "cell_type": "code",
   "execution_count": 295,
   "id": "bc8b1531",
   "metadata": {},
   "outputs": [],
   "source": [
    "epsilon = gaussianWhiteNoise(mean=0, variance=2e-4, n_samples=1000)"
   ]
  },
  {
   "cell_type": "code",
   "execution_count": 296,
   "id": "a9f136bc",
   "metadata": {},
   "outputs": [],
   "source": [
    "theta     = np.array([faultMode(0.5,0.4,0.002) for i in range(1000)])"
   ]
  },
  {
   "cell_type": "code",
   "execution_count": 298,
   "id": "31a0f3c2",
   "metadata": {},
   "outputs": [],
   "source": [
    "X_t = np.zeros(1000)"
   ]
  },
  {
   "cell_type": "code",
   "execution_count": 299,
   "id": "c9ebd346",
   "metadata": {},
   "outputs": [],
   "source": [
    "time = np.arange(0,1000,1)"
   ]
  },
  {
   "cell_type": "code",
   "execution_count": 300,
   "id": "dac50600",
   "metadata": {},
   "outputs": [],
   "source": [
    "for t in time:\n",
    "    X_t[t] = theta[t] * X_t[t-1] * np.cos(0.02*t) + 0.5 + epsilon[t]"
   ]
  },
  {
   "cell_type": "code",
   "execution_count": 301,
   "id": "cf4eac21",
   "metadata": {},
   "outputs": [
    {
     "data": {
      "text/plain": [
       "[<matplotlib.lines.Line2D at 0x7ff1f45c5510>]"
      ]
     },
     "execution_count": 301,
     "metadata": {},
     "output_type": "execute_result"
    },
    {
     "data": {
      "image/png": "[encoded data removed]",
      "text/plain": [
       "<Figure size 432x288 with 1 Axes>"
      ]
     },
     "metadata": {
      "needs_background": "light"
     },
     "output_type": "display_data"
    }
   ],
   "source": [
    "plt.plot(X_t)"
   ]
  },
  {
   "cell_type": "code",
   "execution_count": 309,
   "id": "4572d46f",
   "metadata": {},
   "outputs": [
    {
     "data": {
      "image/png": "[encoded data removed]",
      "text/plain": [
       "<Figure size 576x432 with 2 Axes>"
      ]
     },
     "metadata": {
      "needs_background": "light"
     },
     "output_type": "display_data"
    }
   ],
   "source": [
    "ta, tai, taf, amp = detect_cusum(X_t, \n",
    "                                 threshold = 0.70, \n",
    "                                 drift     = 0, \n",
    "                                 show      = True) "
   ]
  }
 ],
 "metadata": {
  "kernelspec": {
   "display_name": "Python 3",
   "language": "python",
   "name": "python3"
  },
  "language_info": {
   "codemirror_mode": {
    "name": "ipython",
    "version": 3
   },
   "file_extension": ".py",
   "mimetype": "text/x-python",
   "name": "python",
   "nbconvert_exporter": "python",
   "pygments_lexer": "ipython3",
   "version": "3.7.10"
  }
 },
 "nbformat": 4,
 "nbformat_minor": 5
}
