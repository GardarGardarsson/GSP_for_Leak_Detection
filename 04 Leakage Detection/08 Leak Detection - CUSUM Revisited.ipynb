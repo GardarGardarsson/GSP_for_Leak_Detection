{
 "cells": [
  {
   "cell_type": "markdown",
   "id": "7ea40f6e",
   "metadata": {},
   "source": [
    "<a id='toc'></a>\n",
    "# Table of Contents:\n",
    "1. [Make Graph](#makegraph)\n",
    "2. [Read in Yearly Prediction and Scale Back to Original Interval](#readscale)\n",
    "3. [Exploratory Data Analysis](#eda) <br>\n",
    "    3.1 [Data Wrangling](#wrangling) <br>\n",
    "    3.2 [Calculating Per-Node Error](#node-error) <br>\n",
    "    3.3 [Calculating Per-Pipe Error](#pipe-error) <br>\n",
    "    3.4 [Leakage Labelset](#leaks) <br>\n",
    "    3.5 [Dataset Pre-Processing](#pre-process) <br>\n",
    "5. [Boem et al. Residual Analysis](#residual)"
   ]
  },
  {
   "cell_type": "markdown",
   "id": "e88fb90b",
   "metadata": {},
   "source": [
    "# Leak Detection\n",
    "\n",
    "> Garðar Örn Garðarsson <br>\n",
    "Integrated Machine Learning Systems 20-21 <br>\n",
    "University College London"
   ]
  },
  {
   "cell_type": "markdown",
   "id": "0d3d754a",
   "metadata": {},
   "source": [
    "<a id='makegraph'></a>\n",
    "*Back to [Table of Contents](#toc)*"
   ]
  },
  {
   "cell_type": "markdown",
   "id": "1a4c9c5b",
   "metadata": {},
   "source": [
    "## 1. Make Graph"
   ]
  },
  {
   "cell_type": "markdown",
   "id": "666b838c",
   "metadata": {},
   "source": [
    "Convert the `EPANET` model to a `networkx` graph"
   ]
  },
  {
   "cell_type": "code",
   "execution_count": 1,
   "id": "e944d1cd",
   "metadata": {},
   "outputs": [],
   "source": [
    "import os\n",
    "import yaml\n",
    "import time\n",
    "import torch\n",
    "import epynet\n",
    "import numpy as np\n",
    "import pandas as pd\n",
    "import networkx as nx\n",
    "import matplotlib.pyplot as plt\n",
    "from sklearn.model_selection import train_test_split\n",
    "\n",
    "from utils.epanet_loader import get_nx_graph\n",
    "from utils.epanet_simulator import epanetSimulator\n",
    "from utils.data_loader import battledimLoader, dataCleaner, dataGenerator, embedSignalOnGraph, rescaleSignal\n",
    "from modules.torch_gnn import ChebNet\n",
    "from utils.visualisation import visualise\n",
    "\n",
    "# Runtime configuration\n",
    "path_to_wdn     = './data/L-TOWN.inp'\n",
    "path_to_data    = './data/l-town-data/'\n",
    "weight_mode     = 'pipe_length'\n",
    "self_loops      = True\n",
    "scaling         = 'minmax'\n",
    "figsize         = (50,16)\n",
    "print_out_rate  = 1               \n",
    "model_name      = 'l-town-chebnet-' + weight_mode +'-' + scaling + '{}'.format('-self_loop' if self_loops else '')\n",
    "last_model_path = './studies/models/' + model_name + '-1.pt'\n",
    "last_log_path   = './studies/logs/'   + model_name + '-1.csv' \n",
    "\n",
    "# Import the .inp file using the EPYNET library\n",
    "wdn = epynet.Network(path_to_wdn)\n",
    "\n",
    "# Solve hydraulic model for a single timestep\n",
    "wdn.solve()\n",
    "\n",
    "# Convert the file using a custom function, based on:\n",
    "# https://github.com/BME-SmartLab/GraphConvWat \n",
    "G , pos , head = get_nx_graph(wdn, weight_mode=weight_mode, get_head=True)"
   ]
  },
  {
   "cell_type": "markdown",
   "id": "82305013",
   "metadata": {},
   "source": [
    "<a id='readscale'></a>\n",
    "*Back to [Table of Contents](#toc)*"
   ]
  },
  {
   "cell_type": "markdown",
   "id": "5cd48d98",
   "metadata": {},
   "source": [
    "## 2. Read in Yearly Prediction and Scale Back to Original Interval"
   ]
  },
  {
   "cell_type": "code",
   "execution_count": 2,
   "id": "04353b3b",
   "metadata": {},
   "outputs": [],
   "source": [
    "def read_prediction(filename='predictions.csv', scale=1, bias=0, start_date='2018-01-01 00:00:00'):\n",
    "    df = pd.read_csv(filename, index_col='Unnamed: 0')\n",
    "    df.columns = ['n{}'.format(int(node)+1) for node in df.columns]\n",
    "    df = df*scale+bias\n",
    "    df.index = pd.date_range(start=start_date,\n",
    "                             periods=len(df),\n",
    "                             freq = '5min')\n",
    "    return df"
   ]
  },
  {
   "cell_type": "code",
   "execution_count": 3,
   "id": "a8607212",
   "metadata": {},
   "outputs": [],
   "source": [
    "n_timesteps = 3                                              # Timesteps, t-1, t-2...t-n used to predict pressure at t\n",
    "sample_rate = 5                                              # Minutes sampling rate of data\n",
    "offset      = pd.DateOffset(minutes=sample_rate*n_timesteps) # We require n_timesteps of data our first prediction"
   ]
  },
  {
   "cell_type": "markdown",
   "id": "5344af04",
   "metadata": {},
   "source": [
    "Load predictions"
   ]
  },
  {
   "cell_type": "code",
   "execution_count": 4,
   "id": "6d91828c",
   "metadata": {
    "scrolled": true
   },
   "outputs": [],
   "source": [
    "p18 = read_prediction(filename='2018_predictions.csv',\n",
    "                      start_date=pd.Timestamp('2018-01-01 00:00:00') + offset)"
   ]
  },
  {
   "cell_type": "markdown",
   "id": "3af04436",
   "metadata": {},
   "source": [
    "Load reconstructions"
   ]
  },
  {
   "cell_type": "code",
   "execution_count": 5,
   "id": "a3443a07",
   "metadata": {},
   "outputs": [],
   "source": [
    "r18 = read_prediction(filename='2018_reconstructions.csv',\n",
    "                      start_date='2018-01-01 00:00:00')"
   ]
  },
  {
   "cell_type": "markdown",
   "id": "5f5e3742",
   "metadata": {},
   "source": [
    "Load leakage dataset"
   ]
  },
  {
   "cell_type": "code",
   "execution_count": 6,
   "id": "ccb2045d",
   "metadata": {},
   "outputs": [],
   "source": [
    "l18 = pd.read_csv('data/l-town-data/2018_Leakages.csv',decimal=',',sep=';',index_col='Timestamp')\n",
    "l18.index = r18.index # Fix the index column timestamp format"
   ]
  },
  {
   "cell_type": "markdown",
   "id": "e4191cf1",
   "metadata": {},
   "source": [
    "<a id='eda'></a>\n",
    "*Back to [Table of Contents](#toc)*"
   ]
  },
  {
   "cell_type": "markdown",
   "id": "c5ac1f7b",
   "metadata": {},
   "source": [
    "## 3. Exploratory Data Analysis"
   ]
  },
  {
   "cell_type": "markdown",
   "id": "1d6e17e8",
   "metadata": {},
   "source": [
    "<a id='wrangling'></a>\n",
    "*Back to [Table of Contents](#toc)*"
   ]
  },
  {
   "cell_type": "markdown",
   "id": "40779cc6",
   "metadata": {},
   "source": [
    "### 3.1 Data Wrangling & Helper Functions\n",
    "\n",
    "Lets create a dictionary of the format:\n",
    "\n",
    "`{ 'pipe_name' : [ connected_node_1 , connected_node_2 ] }`\n",
    "\n",
    "For all the pipes in the network"
   ]
  },
  {
   "cell_type": "code",
   "execution_count": 7,
   "id": "a839b0a3",
   "metadata": {},
   "outputs": [],
   "source": [
    "neighbours_by_pipe = {}\n",
    "\n",
    "for node in G:\n",
    "    for neighbour, connecting_edge in G[node].items():\n",
    "        if connecting_edge['name'] == 'SELF':\n",
    "            continue\n",
    "        else:\n",
    "            neighbours_by_pipe[connecting_edge['name']] = [node, neighbour]\n",
    "            "
   ]
  },
  {
   "cell_type": "markdown",
   "id": "d013134b",
   "metadata": {},
   "source": [
    "Let's also create the inverse, when we want to look up pipes by their connecting nodes"
   ]
  },
  {
   "cell_type": "code",
   "execution_count": 8,
   "id": "bf504f88",
   "metadata": {},
   "outputs": [],
   "source": [
    "pipe_by_neighbours = { str(neighbour_list) : pipe for pipe , neighbour_list in neighbours_by_pipe.items()}"
   ]
  },
  {
   "cell_type": "markdown",
   "id": "7e825148",
   "metadata": {},
   "source": [
    "Collect timestamp of leakage events in the network"
   ]
  },
  {
   "cell_type": "code",
   "execution_count": 9,
   "id": "fd31b569",
   "metadata": {},
   "outputs": [],
   "source": [
    "leak_timestamps = {}\n",
    "\n",
    "for leak in l18:\n",
    "    leak_timestamps[leak] = l18.index[l18[leak]>0]"
   ]
  },
  {
   "cell_type": "markdown",
   "id": "39d90ac2",
   "metadata": {},
   "source": [
    "A function for returning a list of nodes and pipes in the $k$-neighbourhood of a given pipe"
   ]
  },
  {
   "cell_type": "code",
   "execution_count": 10,
   "id": "92448ef6",
   "metadata": {},
   "outputs": [],
   "source": [
    "def discoverNeighbourhood(pipe, neighbours_by_pipe, pipe_by_neighbours, graph, k=3):\n",
    "    \n",
    "    leaky_nodes = neighbours_by_pipe[pipe]\n",
    "    \n",
    "    node_1_neighbours = nx.single_source_shortest_path_length(graph, leaky_nodes[0], cutoff=k)\n",
    "    node_2_neighbours = nx.single_source_shortest_path_length(graph, leaky_nodes[1], cutoff=k)\n",
    "    \n",
    "    n_hop_neighbours = [unique for unique in pd.DataFrame([node_1_neighbours, node_2_neighbours]).columns]\n",
    "\n",
    "    pipes_in_neighbourhood = []                                                    # List of neighbourhood pipes\n",
    "    for neighbour1 in n_hop_neighbours:                                            # For neighbour 1 \n",
    "        for neighbour2 in n_hop_neighbours:                                        # For neighbour 2\n",
    "            pipe = pipeByneighbourLookup(neighbour1,neighbour2,pipe_by_neighbours) # Look for a connecting pipe ...\n",
    "            if pipe:                                                               # ... with the neighbours and if found:\n",
    "                pipes_in_neighbourhood.append(pipe)                                # .... add it to the list\n",
    "    \n",
    "    pipes_in_neighbourhood = list(dict(zip(pipes_in_neighbourhood,[pipes_in_neighbourhood.count(i) for i in pipes_in_neighbourhood])).keys())\n",
    "    \n",
    "    return pipes_in_neighbourhood, n_hop_neighbours"
   ]
  },
  {
   "cell_type": "markdown",
   "id": "46eaf133",
   "metadata": {},
   "source": [
    "We'll also create a function to perform the lookup, as the order in which the nodes appear in the key matter and we don't bother with raising endless errors when looking up nodes we know to be connected, just cause we input them wrong"
   ]
  },
  {
   "cell_type": "code",
   "execution_count": 11,
   "id": "a79ccae5",
   "metadata": {},
   "outputs": [],
   "source": [
    "def pipeByneighbourLookup(node1, node2, pipe_by_neighbours, verbose=False):\n",
    "    try:\n",
    "        return pipe_by_neighbours[str([node1,node2])]    # If we don't find the first combination\n",
    "    except:\n",
    "        try:                                            # We try the next\n",
    "            return pipe_by_neighbours[str([node2,node1])]\n",
    "        except:                                         # And if we still don't find it\n",
    "            if verbose:\n",
    "                print('Nodes are not connected by a pipe')\n",
    "            return None                                 # We return nothing"
   ]
  },
  {
   "cell_type": "markdown",
   "id": "4df23ba6",
   "metadata": {},
   "source": [
    "A function for determining the numeric value of a timestring window"
   ]
  },
  {
   "cell_type": "code",
   "execution_count": 12,
   "id": "f48cb44c",
   "metadata": {},
   "outputs": [],
   "source": [
    "def determineWindowSize(window='5d',sampling_rate='5min'):\n",
    "    return int(pd.Timedelta(window) / pd.Timedelta(sampling_rate))"
   ]
  },
  {
   "cell_type": "markdown",
   "id": "c53d88df",
   "metadata": {},
   "source": [
    "Wrap this all to a single function:"
   ]
  },
  {
   "cell_type": "markdown",
   "id": "ac02e824",
   "metadata": {},
   "source": [
    "<a id='node-error'></a>\n",
    "*Back to [Table of Contents](#toc)*"
   ]
  },
  {
   "cell_type": "markdown",
   "id": "95156067",
   "metadata": {},
   "source": [
    "### 3.2 Calculating Per-Node Error\n",
    "\n",
    "We may calculate the node-wise validation error, $\\epsilon_{n_{i}}$, by subtracting the predicted values with the reconstructed ones."
   ]
  },
  {
   "cell_type": "code",
   "execution_count": 13,
   "id": "42a9d579",
   "metadata": {},
   "outputs": [],
   "source": [
    "error_by_node = (p18-r18).copy()"
   ]
  },
  {
   "cell_type": "markdown",
   "id": "cd310771",
   "metadata": {},
   "source": [
    "<a id='pipe-error'></a>\n",
    "*Back to [Table of Contents](#toc)*"
   ]
  },
  {
   "cell_type": "markdown",
   "id": "38f020b6",
   "metadata": {},
   "source": [
    "### 3.3 Calculating Per-Pipe Error\n",
    "\n",
    "We may calculate the pipe-wise validation errors, $\\epsilon_{p_i}$, as the difference of the validation error of the two nodes connecting the pipe"
   ]
  },
  {
   "cell_type": "code",
   "execution_count": 14,
   "id": "b17d3961",
   "metadata": {
    "scrolled": false
   },
   "outputs": [],
   "source": [
    "error_by_pipe = {}\n",
    "\n",
    "for key,value in neighbours_by_pipe.items():\n",
    "    node_1 = 'n' + str(value[0])\n",
    "    node_2 = 'n' + str(value[1])\n",
    "    error_by_pipe[key] = ( error_by_node[node_1] - error_by_node[node_2] )\n",
    "    \n",
    "error_by_pipe = pd.DataFrame(error_by_pipe)"
   ]
  },
  {
   "cell_type": "markdown",
   "id": "9d15dd39",
   "metadata": {},
   "source": [
    "<a id='pre-process'></a>\n",
    "*Back to [Table of Contents](#toc)*"
   ]
  },
  {
   "cell_type": "markdown",
   "id": "cd60dd90",
   "metadata": {},
   "source": [
    "### 3.5 Dataset Pre-Processing\n",
    "\n",
    "Process the dataset for timeseries classification. <br>\n",
    "I want to devise a set where I have a configurable window of observations, `[1, 5, 10, ... 200]`.<br>\n",
    "For that window of observations, I sum the per pipe events such that the according label will read `[0, 0, 1, 0, ...]`, where the set bit indicates the leaky pipes for that interval. <br>"
   ]
  },
  {
   "cell_type": "markdown",
   "id": "dbd1b708",
   "metadata": {},
   "source": [
    "First clean out the `NaNs` from the feature and labelset caused by the window size of the predictive model"
   ]
  },
  {
   "cell_type": "code",
   "execution_count": 15,
   "id": "7f59e6c6",
   "metadata": {
    "scrolled": true
   },
   "outputs": [],
   "source": [
    "error_by_pipe = error_by_pipe.dropna()"
   ]
  },
  {
   "cell_type": "markdown",
   "id": "320368b4",
   "metadata": {},
   "source": [
    "Similarly for the pipe-wise classification, do it for the node-wise classification"
   ]
  },
  {
   "cell_type": "code",
   "execution_count": 16,
   "id": "e01c8a7b",
   "metadata": {
    "scrolled": true
   },
   "outputs": [],
   "source": [
    "error_by_node = error_by_node.dropna()"
   ]
  },
  {
   "cell_type": "markdown",
   "id": "33e2bf51",
   "metadata": {},
   "source": [
    "<a id='residual'></a>\n",
    "*Back to [Table of Contents](#toc)*"
   ]
  },
  {
   "cell_type": "markdown",
   "id": "24140324",
   "metadata": {},
   "source": [
    "## 4. CUSUM"
   ]
  },
  {
   "cell_type": "code",
   "execution_count": 17,
   "id": "652e7361",
   "metadata": {},
   "outputs": [
    {
     "name": "stdout",
     "output_type": "stream",
     "text": [
      "m:\t2016\n",
      "alpha:\t1.5\n"
     ]
    }
   ],
   "source": [
    "window  = '7d'\n",
    "wdw_int = determineWindowSize(window,sampling_rate='5min')\n",
    "min_per = determineWindowSize('7d' ,sampling_rate='5min')\n",
    "alpha   = 1.5\n",
    "v\n",
    "print(\"m:\\t{}\\nalpha:\\t{}\".format(wdw_int,alpha))"
   ]
  },
  {
   "cell_type": "code",
   "execution_count": null,
   "id": "ba773cdd",
   "metadata": {},
   "outputs": [],
   "source": [
    "from utils.cusum import detect_cusum\n",
    "import networkx as nx"
   ]
  },
  {
   "cell_type": "markdown",
   "id": "067f3167",
   "metadata": {},
   "source": [
    "Standardise the signals to be analysed, by subtracting the mean and dividing by the std.dev:\n",
    "\n",
    "\\begin{equation}\n",
    "S(k) = \\frac{\\epsilon_i - \\mu_{\\epsilon_i} } { \\sigma_{\\epsilon_i}}\n",
    "\\end{equation}\n",
    "\n",
    "❗️**The signal should only be standardised from data under healthy condition** ❗️"
   ]
  },
  {
   "cell_type": "markdown",
   "id": "983c0c64",
   "metadata": {},
   "source": [
    "So we could use this to retrieve a list of date-time indices that denote faulty condition, for neighbouring pipes of leakages, that we then leave-out from the standardisation of the signal."
   ]
  },
  {
   "cell_type": "code",
   "execution_count": 18,
   "id": "6fa9e5b3",
   "metadata": {},
   "outputs": [],
   "source": [
    "fault_times = {}\n",
    "\n",
    "# First populate the key variable with empty lists, that are the k-hop neighbouring nodes of leaky pipes:\n",
    "for leaky_pipe in leak_timestamps.keys():\n",
    "    pipes, _ = discoverNeighbourhood(leaky_pipe, neighbours_by_pipe, pipe_by_neighbours, G, k=3)\n",
    "    for pipe in pipes:\n",
    "        fault_times[pipe] = []"
   ]
  },
  {
   "cell_type": "markdown",
   "id": "b7e466ae",
   "metadata": {},
   "source": [
    "So there are in fact:"
   ]
  },
  {
   "cell_type": "code",
   "execution_count": 19,
   "id": "d52867c3",
   "metadata": {
    "scrolled": true
   },
   "outputs": [
    {
     "data": {
      "text/plain": [
       "186"
      ]
     },
     "execution_count": 19,
     "metadata": {},
     "output_type": "execute_result"
    }
   ],
   "source": [
    "len(fault_times.keys())"
   ]
  },
  {
   "cell_type": "markdown",
   "id": "87ad224e",
   "metadata": {},
   "source": [
    "Now that we've initialised the dictionary with empty lists, we can again iterate through the `leak_timestamps` and append them to the lists, thereby, taking care of not overwriting recurring nodes:\n",
    "\n",
    "*Note: recurring nodes, would be nodes that are in the $k$ neighbourhood of more than one leakages*"
   ]
  },
  {
   "cell_type": "code",
   "execution_count": 20,
   "id": "69eb6303",
   "metadata": {},
   "outputs": [],
   "source": [
    "for leaky_pipe, time in leak_timestamps.items():\n",
    "    pipes, _ = discoverNeighbourhood(leaky_pipe, neighbours_by_pipe, pipe_by_neighbours, G, k=3)\n",
    "    for pipe in pipes:\n",
    "        fault_times[pipe].append(time)"
   ]
  },
  {
   "cell_type": "code",
   "execution_count": 21,
   "id": "f4a3645e",
   "metadata": {},
   "outputs": [],
   "source": [
    "faulty_avg = {}\n",
    "faulty_std = {}\n",
    "\n",
    "for pipe, dt_list in fault_times.items():\n",
    "    \n",
    "    n_faulty_periods = len(dt_list)\n",
    "    \n",
    "    # Some ugly hardcoding\n",
    "    if n_faulty_periods == 1:\n",
    "        faulty_avg[pipe] = error_by_pipe[pipe][~error_by_pipe[pipe].index.isin(fault_times[pipe][0])].mean()\n",
    "        faulty_std[pipe] = error_by_pipe[pipe][~error_by_pipe[pipe].index.isin(fault_times[pipe][0])].std()\n",
    "        \n",
    "    if n_faulty_periods == 2:\n",
    "        faulty_avg[pipe] = error_by_pipe[pipe][~error_by_pipe[pipe].index.isin(fault_times[pipe][0]) & \\\n",
    "                                                         ~error_by_pipe[pipe].index.isin(fault_times[pipe][1]) ].mean()\n",
    "        faulty_std[pipe] = error_by_pipe[pipe][~error_by_pipe[pipe].index.isin(fault_times[pipe][0]) & \\\n",
    "                                                         ~error_by_pipe[pipe].index.isin(fault_times[pipe][1]) ].std()\n",
    "    if n_faulty_periods == 3:\n",
    "        faulty_avg[pipe] = error_by_pipe[pipe][~error_by_pipe[pipe].index.isin(fault_times[pipe][0]) & \\\n",
    "                                                         ~error_by_pipe[pipe].index.isin(fault_times[pipe][1]) & \\\n",
    "                                                         ~error_by_pipe[pipe].index.isin(fault_times[pipe][2]) ].mean()\n",
    "        faulty_std[pipe] = error_by_pipe[pipe][~error_by_pipe[pipe].index.isin(fault_times[pipe][0]) & \\\n",
    "                                                         ~error_by_pipe[pipe].index.isin(fault_times[pipe][1]) & \\\n",
    "                                                         ~error_by_pipe[pipe].index.isin(fault_times[pipe][2]) ].std()\n",
    "    if n_faulty_periods == 4:\n",
    "        faulty_avg[pipe] = error_by_pipe[pipe][~error_by_pipe[pipe].index.isin(fault_times[pipe][0]) & \\\n",
    "                                                         ~error_by_pipe[pipe].index.isin(fault_times[pipe][1]) & \\\n",
    "                                                         ~error_by_pipe[pipe].index.isin(fault_times[pipe][2]) & \\\n",
    "                                                         ~error_by_pipe[pipe].index.isin(fault_times[pipe][3]) ].mean()\n",
    "        faulty_std[pipe] = error_by_pipe[pipe][~error_by_pipe[pipe].index.isin(fault_times[pipe][0]) & \\\n",
    "                                                         ~error_by_pipe[pipe].index.isin(fault_times[pipe][1]) & \\\n",
    "                                                         ~error_by_pipe[pipe].index.isin(fault_times[pipe][2]) & \\\n",
    "                                                         ~error_by_pipe[pipe].index.isin(fault_times[pipe][3]) ].std()\n"
   ]
  },
  {
   "cell_type": "markdown",
   "id": "3dc10503",
   "metadata": {},
   "source": [
    "Now for the healthy pipes:"
   ]
  },
  {
   "cell_type": "code",
   "execution_count": 22,
   "id": "f2312377",
   "metadata": {},
   "outputs": [],
   "source": [
    "healthy_avg = {}\n",
    "healthy_std = {}\n",
    "\n",
    "for pipe in error_by_pipe:\n",
    "    if pipe in faulty_avg:\n",
    "        continue\n",
    "    else:\n",
    "        healthy_avg[pipe] = error_by_pipe[pipe].mean()\n",
    "        healthy_std[pipe] = error_by_pipe[pipe].std()"
   ]
  },
  {
   "cell_type": "markdown",
   "id": "c9bb22c7",
   "metadata": {},
   "source": [
    "And standardise the residual signals given these averages and std.devs:"
   ]
  },
  {
   "cell_type": "code",
   "execution_count": 23,
   "id": "3df3b8fa",
   "metadata": {
    "scrolled": false
   },
   "outputs": [],
   "source": [
    "signal = pd.DataFrame([])\n",
    "for pipe in error_by_pipe:\n",
    "    if pipe in faulty_avg.keys():\n",
    "        signal[pipe] = (error_by_pipe[pipe] - faulty_avg[pipe]) #/ faulty_std[pipe]\n",
    "    else:\n",
    "        signal[pipe] = (error_by_pipe[pipe] - healthy_avg[pipe]) # / healthy_std[pipe]"
   ]
  },
  {
   "cell_type": "markdown",
   "id": "2b423d44",
   "metadata": {},
   "source": [
    "Let's store a copy of these that may come in handy later"
   ]
  },
  {
   "cell_type": "code",
   "execution_count": 45,
   "id": "3010c2ae",
   "metadata": {},
   "outputs": [],
   "source": [
    "avg = pd.concat([pd.DataFrame(healthy_avg, index=[0]),\n",
    "                 pd.DataFrame(faulty_avg, index=[0])],\n",
    "                 axis=1)[error_by_pipe.columns]"
   ]
  },
  {
   "cell_type": "code",
   "execution_count": 46,
   "id": "719738e9",
   "metadata": {},
   "outputs": [],
   "source": [
    "std = pd.concat([pd.DataFrame(healthy_std, index=[0]),\n",
    "                 pd.DataFrame(faulty_std, index=[0])],\n",
    "                 axis=1)[error_by_pipe.columns]"
   ]
  },
  {
   "cell_type": "code",
   "execution_count": 49,
   "id": "35cc66ee",
   "metadata": {},
   "outputs": [],
   "source": [
    "avg.to_csv('pipe_avg.csv')\n",
    "std.to_csv('pipe_std.csv')"
   ]
  },
  {
   "cell_type": "markdown",
   "id": "eb28073d",
   "metadata": {},
   "source": [
    "The signal to be assessed is then the absolute value of the rolling mean of the standardised \n",
    "residual signal\n",
    "\n",
    "\\begin{equation}\n",
    "|\\bar{r}^{(m)}(k)| = \\text{ABS} \\left( \\frac{1}{m} \\sum_{i=0}^{m} S(k-i) \\right)\n",
    "\\end{equation}"
   ]
  },
  {
   "cell_type": "code",
   "execution_count": 305,
   "id": "7a988e6d",
   "metadata": {},
   "outputs": [],
   "source": [
    "r_m_k = abs(signal.rolling(window,min_per).mean().dropna())"
   ]
  },
  {
   "cell_type": "markdown",
   "id": "a7c59156",
   "metadata": {},
   "source": [
    "Now, for the threshold, we define it as: \n",
    "\n",
    "\\begin{equation}\n",
    "\\bar{\\rho}^{(m)}(k) = \\alpha \\bar{\\sigma}^{(m)}(k)\n",
    "\\end{equation}\n",
    "\n",
    "Where:\n",
    "\n",
    "\\begin{equation}\n",
    "(\\bar{\\sigma}^{(m),B}(k))^2 = \\frac{1}{m} \\sum_{j=0}^{m-1} (\\sigma^B(k-j))^2\n",
    "\\end{equation}\n",
    "\n",
    "... or effectively, the threshold is some value $\\alpha$ times the rolling standard deviation of the signal\n"
   ]
  },
  {
   "cell_type": "code",
   "execution_count": 306,
   "id": "3f15bf01",
   "metadata": {},
   "outputs": [],
   "source": [
    "threshold = {}\n",
    "\n",
    "for pipe in error_by_pipe:\n",
    "    threshold[pipe] = alpha * signal[pipe].rolling(window,min_per).std().dropna() # ALPHA !!!\n",
    "\n",
    "threshold = pd.DataFrame(threshold)"
   ]
  },
  {
   "cell_type": "code",
   "execution_count": 307,
   "id": "dae6506d",
   "metadata": {},
   "outputs": [],
   "source": [
    "faults = (r_m_k >= threshold).astype('int')"
   ]
  },
  {
   "cell_type": "markdown",
   "id": "b1949015",
   "metadata": {},
   "source": [
    "Analyse a single event, these pipes had leaks:"
   ]
  },
  {
   "cell_type": "code",
   "execution_count": 308,
   "id": "f07895db",
   "metadata": {},
   "outputs": [
    {
     "data": {
      "text/plain": [
       "Index(['p31', 'p158', 'p183', 'p232', 'p257', 'p369', 'p427', 'p461', 'p538',\n",
       "       'p628', 'p654', 'p673', 'p810', 'p866'],\n",
       "      dtype='object')"
      ]
     },
     "execution_count": 308,
     "metadata": {},
     "output_type": "execute_result"
    }
   ],
   "source": [
    "l18.columns"
   ]
  },
  {
   "cell_type": "markdown",
   "id": "b86f242e",
   "metadata": {},
   "source": [
    "Let's pick out a single pipe failure and inspect the signal and detection in the neighbourhood"
   ]
  },
  {
   "cell_type": "code",
   "execution_count": 309,
   "id": "2b23da92",
   "metadata": {},
   "outputs": [
    {
     "data": {
      "text/plain": [
       "(['p232', 'p621', 'p617', 'p431', 'p609', 'p611'],\n",
       " [191, 184, 586, 583, 465, 578, 579])"
      ]
     },
     "execution_count": 309,
     "metadata": {},
     "output_type": "execute_result"
    }
   ],
   "source": [
    "discoverNeighbourhood(pipe='p232', \n",
    "                      neighbours_by_pipe=neighbours_by_pipe, \n",
    "                      pipe_by_neighbours=pipe_by_neighbours,\n",
    "                      graph=G,\n",
    "                      k=1)"
   ]
  },
  {
   "cell_type": "code",
   "execution_count": 310,
   "id": "235b4945",
   "metadata": {
    "scrolled": false
   },
   "outputs": [
    {
     "data": {
      "image/png": "[encoded data removed]",
      "text/plain": [
       "<Figure size 1152x432 with 1 Axes>"
      ]
     },
     "metadata": {
      "needs_background": "light"
     },
     "output_type": "display_data"
    }
   ],
   "source": [
    "plt.figure(figsize=(16,6))\n",
    "\n",
    "pipe = 'p609'\n",
    "leak = 'p232'\n",
    "\n",
    "# zoomed = leak_timestamps['p31']+pd.Timedelta(days=7)\n",
    "\n",
    "threshold[   pipe].plot( label = r'Threshold $(\\bar{\\sigma}^{(m),B}(k)^2$)')\n",
    "r_m_k[       pipe].plot( label = r'Residual m.avg $|\\bar{r}^{(m)}(k)|$')\n",
    "(1e-3*faults[pipe]).plot(label =  'Classified faults r>p')\n",
    "(1e-4*l18[   leak]).plot(label =  'Actual leakage in {}'.format(leak))\n",
    "plt.legend()\n",
    "plt.title('Pipe: {}\\nPipe leak @: {}'.format(pipe, leak))\n",
    "plt.show()"
   ]
  },
  {
   "cell_type": "markdown",
   "id": "13aac113",
   "metadata": {},
   "source": [
    "Faults found in how many pipes (?)"
   ]
  },
  {
   "cell_type": "code",
   "execution_count": 311,
   "id": "e240b8a2",
   "metadata": {},
   "outputs": [
    {
     "data": {
      "text/plain": [
       "573"
      ]
     },
     "execution_count": 311,
     "metadata": {},
     "output_type": "execute_result"
    }
   ],
   "source": [
    "len(faults.columns) - ((faults.sum()<=0).astype('int')).sum()\n",
    "#  ^ total n pipes      ^ Mask out pipes with 0 faults   ^ and count them"
   ]
  },
  {
   "cell_type": "markdown",
   "id": "086d37e2",
   "metadata": {},
   "source": [
    "Times of fault?"
   ]
  },
  {
   "cell_type": "markdown",
   "id": "7e593673",
   "metadata": {},
   "source": [
    "## 2018 Detections:"
   ]
  },
  {
   "cell_type": "code",
   "execution_count": 312,
   "id": "2e141bb8",
   "metadata": {},
   "outputs": [],
   "source": [
    "fault_times = {}\n",
    "\n",
    "for pipe in faults:\n",
    "    fault_times[pipe] = faults.index[faults[pipe]>0]\n"
   ]
  },
  {
   "cell_type": "code",
   "execution_count": 313,
   "id": "2fa156dc",
   "metadata": {},
   "outputs": [],
   "source": [
    "detections = {}\n",
    "for pipe, timestamp in fault_times.items():\n",
    "    if not timestamp.empty:\n",
    "        detections[pipe] = timestamp[0]"
   ]
  },
  {
   "cell_type": "code",
   "execution_count": 314,
   "id": "acde70f0",
   "metadata": {},
   "outputs": [],
   "source": [
    "pruned_detections = {}\n",
    "\n",
    "for key, val in detections.items():\n",
    "    #check = \n",
    "    if val == pd.Timestamp('2018-01-08 00:10:00'):\n",
    "        continue\n",
    "    else:\n",
    "        pruned_detections[key] = val"
   ]
  },
  {
   "cell_type": "code",
   "execution_count": 315,
   "id": "d7b6d73b",
   "metadata": {},
   "outputs": [],
   "source": [
    "sorted_detections = {k: v for k, v in sorted(pruned_detections.items(), key=lambda item: item[1])}"
   ]
  },
  {
   "cell_type": "code",
   "execution_count": 316,
   "id": "33f8a0ca",
   "metadata": {},
   "outputs": [],
   "source": [
    "for pipe, time in sorted_detections.items():\n",
    "    nbors=discoverNeighbourhood(pipe, neighbours_by_pipe, pipe_by_neighbours, G, k=30)[0]\n",
    "    break"
   ]
  },
  {
   "cell_type": "code",
   "execution_count": 317,
   "id": "01b2e6b1",
   "metadata": {},
   "outputs": [],
   "source": [
    "with open('results.txt', 'w') as f:\n",
    "    f.write('#linkID, startTime\\n')\n",
    "    for key, val in sorted_detections.items():\n",
    "        f.write(key + ', ' + str(sorted_detections[key])[:-3] + '\\n')\n",
    "    f.close()"
   ]
  },
  {
   "cell_type": "markdown",
   "id": "6c1e23bd",
   "metadata": {},
   "source": [
    "## 2019 Detections:"
   ]
  },
  {
   "cell_type": "code",
   "execution_count": 732,
   "id": "37cb851d",
   "metadata": {},
   "outputs": [
    {
     "name": "stdout",
     "output_type": "stream",
     "text": [
      "m:\t288\n",
      "alpha:\t1.5\n"
     ]
    }
   ],
   "source": [
    "window  = '1d'\n",
    "wdw_int = determineWindowSize(window,sampling_rate='5min')\n",
    "min_per = determineWindowSize('1d' ,sampling_rate='5min')\n",
    "alpha   = 1.5\n",
    "\n",
    "print(\"m:\\t{}\\nalpha:\\t{}\".format(wdw_int,alpha))"
   ]
  },
  {
   "cell_type": "code",
   "execution_count": 733,
   "id": "ac8e139b",
   "metadata": {
    "scrolled": true
   },
   "outputs": [],
   "source": [
    "p19 = read_prediction(filename='2019_predictions.csv',\n",
    "                      start_date=pd.Timestamp('2019-01-01 00:00:00') + offset)"
   ]
  },
  {
   "cell_type": "code",
   "execution_count": 734,
   "id": "b0bd2c5c",
   "metadata": {},
   "outputs": [],
   "source": [
    "r19 = read_prediction(filename='2019_reconstructions.csv',\n",
    "                      start_date='2019-01-01 00:00:00')"
   ]
  },
  {
   "cell_type": "code",
   "execution_count": 735,
   "id": "c8895229",
   "metadata": {
    "scrolled": true
   },
   "outputs": [],
   "source": [
    "l19 = pd.read_csv('data/l-town-data/2019_Leakages.csv',decimal=',',sep=';',index_col='Timestamp')\n",
    "l19.index = r19.index # Fix the index column timestamp format"
   ]
  },
  {
   "cell_type": "code",
   "execution_count": 736,
   "id": "dc5e89b4",
   "metadata": {},
   "outputs": [],
   "source": [
    "error_by_node_19 = (p19-r19).copy()"
   ]
  },
  {
   "cell_type": "code",
   "execution_count": 737,
   "id": "078df3a9",
   "metadata": {
    "scrolled": false
   },
   "outputs": [],
   "source": [
    "error_by_pipe_19 = {}\n",
    "\n",
    "for key,value in neighbours_by_pipe.items():\n",
    "    node_1 = 'n' + str(value[0])\n",
    "    node_2 = 'n' + str(value[1])\n",
    "    error_by_pipe_19[key] = ( error_by_node_19[node_1] - error_by_node_19[node_2] )\n",
    "    \n",
    "error_by_pipe_19 = pd.DataFrame(error_by_pipe_19)"
   ]
  },
  {
   "cell_type": "code",
   "execution_count": 738,
   "id": "d3e21d2c",
   "metadata": {
    "scrolled": true
   },
   "outputs": [],
   "source": [
    "error_by_pipe_19 = error_by_pipe_19.dropna()"
   ]
  },
  {
   "cell_type": "code",
   "execution_count": 739,
   "id": "8707f975",
   "metadata": {
    "scrolled": false
   },
   "outputs": [],
   "source": [
    "signal = pd.DataFrame([])\n",
    "for pipe in error_by_pipe_19:\n",
    "    if pipe in faulty_avg.keys():\n",
    "        signal[pipe] = (error_by_pipe_19[pipe] - faulty_avg[pipe]) #/ faulty_std[pipe]\n",
    "    else:\n",
    "        signal[pipe] = (error_by_pipe_19[pipe] - healthy_avg[pipe]) #/ healthy_std[pipe]"
   ]
  },
  {
   "cell_type": "code",
   "execution_count": 740,
   "id": "c9b814d7",
   "metadata": {},
   "outputs": [],
   "source": [
    "r_m_k = abs(signal.rolling(window,min_per).mean().dropna())"
   ]
  },
  {
   "cell_type": "code",
   "execution_count": 741,
   "id": "f6908ded",
   "metadata": {},
   "outputs": [],
   "source": [
    "threshold = {}\n",
    "\n",
    "for pipe in error_by_pipe_19:\n",
    "    threshold[pipe] = alpha * signal[pipe].rolling(window,min_per).std().dropna() # ALPHA !!!\n",
    "\n",
    "threshold = pd.DataFrame(threshold)"
   ]
  },
  {
   "cell_type": "code",
   "execution_count": 742,
   "id": "ef14e33d",
   "metadata": {},
   "outputs": [],
   "source": [
    "faults_19 = (r_m_k >= threshold).astype('int')"
   ]
  },
  {
   "cell_type": "code",
   "execution_count": 743,
   "id": "c26dcb79",
   "metadata": {},
   "outputs": [],
   "source": [
    "faults_19 = faults_19.diff(periods=1).fillna((faults_19.iloc[0]).astype('int'))"
   ]
  },
  {
   "cell_type": "code",
   "execution_count": 744,
   "id": "c4b85279",
   "metadata": {},
   "outputs": [],
   "source": [
    "detections_19 = {}\n",
    "\n",
    "for pipe in faults_19:\n",
    "    timestamp = faults_19[pipe].index[faults_19[pipe]>0]\n",
    "    if timestamp.empty:\n",
    "        continue\n",
    "    else: \n",
    "        detections_19[pipe] = timestamp"
   ]
  },
  {
   "cell_type": "code",
   "execution_count": 745,
   "id": "3e9b5bb7",
   "metadata": {},
   "outputs": [],
   "source": [
    "with open('results_data.txt', 'w') as f:\n",
    "    f.write('#linkID, startTime\\n')\n",
    "    for key in detections_19.keys():\n",
    "        for val in detections_19[key]: \n",
    "            f.write(key + ', ' + str(val)[:-3] + '\\n')\n",
    "    f.close()"
   ]
  },
  {
   "cell_type": "code",
   "execution_count": 746,
   "id": "fd60ab89",
   "metadata": {},
   "outputs": [],
   "source": [
    "results = []\n",
    "for key in detections_19.keys():\n",
    "    for val in detections_19[key]:\n",
    "        entry =[]\n",
    "        entry.append(str(val)[:-3])\n",
    "        entry.append(key)\n",
    "        results.append(entry)\n",
    "\n",
    "results = pd.DataFrame(results)\n",
    "results.set_index(0,drop=True, inplace=True)"
   ]
  },
  {
   "cell_type": "code",
   "execution_count": 747,
   "id": "5db3749a",
   "metadata": {},
   "outputs": [],
   "source": [
    "results.to_csv('results_data.csv')"
   ]
  },
  {
   "cell_type": "code",
   "execution_count": 748,
   "id": "340dd7b2",
   "metadata": {},
   "outputs": [
    {
     "data": {
      "text/plain": [
       "847"
      ]
     },
     "execution_count": 748,
     "metadata": {},
     "output_type": "execute_result"
    }
   ],
   "source": [
    "len(detections_19.keys())"
   ]
  },
  {
   "cell_type": "markdown",
   "id": "d534e4c6",
   "metadata": {},
   "source": [
    "124 for $\\alpha=2$\n",
    "\n",
    "691 for $\\alpha=1.5$\n",
    "\n",
    "783 for $\\alpha=1.0$"
   ]
  },
  {
   "cell_type": "code",
   "execution_count": 749,
   "id": "d6a5cd04",
   "metadata": {},
   "outputs": [],
   "source": [
    "detections = {}"
   ]
  },
  {
   "cell_type": "code",
   "execution_count": 750,
   "id": "02aa6554",
   "metadata": {},
   "outputs": [],
   "source": [
    "detections = pd.read_csv('results_data.csv', index_col = '0').sort_index()"
   ]
  },
  {
   "cell_type": "code",
   "execution_count": 751,
   "id": "514c1f16",
   "metadata": {},
   "outputs": [],
   "source": [
    "detections.index = pd.to_datetime(detections.index)"
   ]
  },
  {
   "cell_type": "code",
   "execution_count": 752,
   "id": "28141e36",
   "metadata": {},
   "outputs": [],
   "source": [
    "detections['leakTimeStamp'] = detections.index"
   ]
  },
  {
   "cell_type": "code",
   "execution_count": 753,
   "id": "6a9f776b",
   "metadata": {},
   "outputs": [],
   "source": [
    "detections = detections.resample('d').first()"
   ]
  },
  {
   "cell_type": "code",
   "execution_count": 754,
   "id": "c68f4a3b",
   "metadata": {},
   "outputs": [],
   "source": [
    "detections = detections.replace(to_replace='None', value=np.nan).dropna()"
   ]
  },
  {
   "cell_type": "code",
   "execution_count": 755,
   "id": "8127e287",
   "metadata": {},
   "outputs": [],
   "source": [
    "detections.set_index('leakTimeStamp', drop=True, inplace=True)"
   ]
  },
  {
   "cell_type": "code",
   "execution_count": 756,
   "id": "1da9bc12",
   "metadata": {},
   "outputs": [],
   "source": [
    "with open('results_data.txt', 'w') as f:\n",
    "    f.write('#linkID, startTime\\n')\n",
    "    for time, pipe in detections['1'].to_dict().items():\n",
    "        f.write(pipe + ', ' + str(time)[:-3] + '\\n')\n",
    "    f.close()"
   ]
  },
  {
   "cell_type": "code",
   "execution_count": 757,
   "id": "4947d1a1",
   "metadata": {},
   "outputs": [
    {
     "data": {
      "text/plain": [
       "(332, 1)"
      ]
     },
     "execution_count": 757,
     "metadata": {},
     "output_type": "execute_result"
    }
   ],
   "source": [
    "detections.shape"
   ]
  },
  {
   "cell_type": "code",
   "execution_count": 35,
   "id": "43eee061",
   "metadata": {},
   "outputs": [],
   "source": [
    "import numpy as np\n",
    "import pandas as pd"
   ]
  },
  {
   "cell_type": "code",
   "execution_count": 36,
   "id": "1091e5f6",
   "metadata": {},
   "outputs": [],
   "source": [
    "gibberish_detections = np.random.randint(1,905,365)"
   ]
  },
  {
   "cell_type": "code",
   "execution_count": 37,
   "id": "4ce4f20b",
   "metadata": {},
   "outputs": [],
   "source": [
    "dateRange = pd.date_range(\"2019-01-01 00:00\", periods = 365, freq='D')"
   ]
  },
  {
   "cell_type": "code",
   "execution_count": 38,
   "id": "6e510f4c",
   "metadata": {},
   "outputs": [],
   "source": [
    "with open('random_results.txt', 'w') as f:\n",
    "    f.write('#linkID, startTime\\n')\n",
    "    for pipe, time in zip(gibberish_detections, dateRange):\n",
    "        f.write('p'+ str(pipe) + ', ' + str(time)[:-3] + '\\n')\n",
    "    f.close()"
   ]
  },
  {
   "cell_type": "markdown",
   "id": "60ab2d90",
   "metadata": {},
   "source": [
    "`(220, 1)` for $\\alpha = 1.5$\n",
    "\n",
    "`(317, 1)` for $\\alpha = 1.0$"
   ]
  }
 ],
 "metadata": {
  "kernelspec": {
   "display_name": "Python 3",
   "language": "python",
   "name": "python3"
  },
  "language_info": {
   "codemirror_mode": {
    "name": "ipython",
    "version": 3
   },
   "file_extension": ".py",
   "mimetype": "text/x-python",
   "name": "python",
   "nbconvert_exporter": "python",
   "pygments_lexer": "ipython3",
   "version": "3.7.10"
  }
 },
 "nbformat": 4,
 "nbformat_minor": 5
}
