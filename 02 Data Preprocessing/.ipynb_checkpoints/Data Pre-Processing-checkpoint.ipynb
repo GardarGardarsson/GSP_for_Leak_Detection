{
 "cells": [
  {
   "cell_type": "markdown",
   "id": "0f06abca",
   "metadata": {},
   "source": [
    "# Data Pre-Processing"
   ]
  },
  {
   "cell_type": "markdown",
   "id": "25513c81",
   "metadata": {},
   "source": [
    "Import essential packages"
   ]
  },
  {
   "cell_type": "code",
   "execution_count": 1,
   "id": "8f35bd37",
   "metadata": {},
   "outputs": [],
   "source": [
    "import os\n",
    "import numpy as np\n",
    "import pandas as pd\n",
    "import matplotlib.pyplot as plt\n",
    "import seaborn as sns"
   ]
  },
  {
   "cell_type": "markdown",
   "id": "ba6efd4f",
   "metadata": {},
   "source": [
    "Read in `Results.csv`"
   ]
  },
  {
   "cell_type": "code",
   "execution_count": 2,
   "id": "a24a4033",
   "metadata": {},
   "outputs": [],
   "source": [
    "df = pd.read_csv(\"./data/Results.csv\", sep=\";\", decimal=\",\") # Separator is semi-colon and decimal point is comma"
   ]
  },
  {
   "cell_type": "markdown",
   "id": "4425b5b4",
   "metadata": {},
   "source": [
    "Convert the `time` field to `Pandas DateTime`"
   ]
  },
  {
   "cell_type": "code",
   "execution_count": 3,
   "id": "5194a942",
   "metadata": {},
   "outputs": [],
   "source": [
    "df.time      = pd.to_datetime(df.time)   # Convert datefield to datetime\n",
    "df           = df.sort_values(by='time') # Sort values on the time column\n",
    "df           = df.dropna()               # Remove NaNs (there's only one)"
   ]
  },
  {
   "cell_type": "markdown",
   "id": "03a72992",
   "metadata": {},
   "source": [
    "Separate the dataframe into device-unique instances (i.e. on sensor)"
   ]
  },
  {
   "cell_type": "code",
   "execution_count": 4,
   "id": "35675b28",
   "metadata": {},
   "outputs": [],
   "source": [
    "devices      = sorted(df.tag.unique())           # Create a list of sorted device tags, there are 4 sensors\n",
    "device_names = [name[15:22] for name in devices] # Make a list of device unique names, i.e. 0001_PI, 0002_PI, ...\n",
    "grouped      = df.groupby(df.tag)                # Create a groupby generator on the .tag column (sensor names)\n",
    "dfs          = {}                                # Empty dictionary to hold device-unique dataframes\n",
    "\n",
    "# For every unique device\n",
    "for i, device in enumerate(devices):   \n",
    "    # Add device unique group to dictionary. The key is device unique, i.e. 0001_PI, 0002_PI, ...\n",
    "    dfs[\"{}\".format(device_names[i])] = grouped.get_group(device).copy()"
   ]
  },
  {
   "cell_type": "markdown",
   "id": "c85195dc",
   "metadata": {},
   "source": [
    "This should be fine, but I'm not all too fond of this stacked format we have where the `average`, `minimum` and `maximum` values are in seperate rows.<br> \n",
    "I'll now *unstack* the dataframe so that these appear in different columns, by using `.pivot()`."
   ]
  },
  {
   "cell_type": "code",
   "execution_count": 5,
   "id": "89174aea",
   "metadata": {},
   "outputs": [],
   "source": [
    "for key, dataframe in dfs.items():\n",
    "    dfs[key] = dataframe.pivot(index=\"time\", columns=\"mode\", values=['value','quality']).copy()"
   ]
  },
  {
   "cell_type": "markdown",
   "id": "f78bba37",
   "metadata": {},
   "source": [
    "The multi-index column names are a bit awkward, e.g. `maximum:PT10M` etc.<br>\n",
    "I'll create a cleaner version and apply to all of them"
   ]
  },
  {
   "cell_type": "code",
   "execution_count": 8,
   "id": "cf43ffc2",
   "metadata": {},
   "outputs": [],
   "source": [
    "# Create a list of easily interpretable tuples\n",
    "new_columns = [('value','avg'),\n",
    "               ('value','max'),\n",
    "               ('value','min'),\n",
    "               ('quality','q_avg'),\n",
    "               ('quality','q_max'),\n",
    "               ('quality','q_min')]\n",
    "\n",
    "# And generate a multi-index out of it\n",
    "column_idx  = pd.MultiIndex.from_tuples(new_columns)\n",
    "\n",
    "# Apply it to all the device-unique dataframes in the dictionary\n",
    "for key, dataframe in dfs.items():\n",
    "    dataframe.columns = column_idx\n",
    "    dataframe.columns = dataframe.columns.droplevel()"
   ]
  },
  {
   "cell_type": "markdown",
   "id": "85bdefef",
   "metadata": {},
   "source": [
    "Now, I want to check if all the `quality` values of the frames are the same, if so, then some columns are redundant"
   ]
  },
  {
   "cell_type": "code",
   "execution_count": 10,
   "id": "76a3d8b7",
   "metadata": {},
   "outputs": [
    {
     "data": {
      "text/plain": [
       "False"
      ]
     },
     "execution_count": 10,
     "metadata": {},
     "output_type": "execute_result"
    }
   ],
   "source": [
    "dfs['0001_PI'].q_min.equals(dfs['0001_PI'].q_avg)"
   ]
  },
  {
   "cell_type": "markdown",
   "id": "2c821dbd",
   "metadata": {},
   "source": [
    "Hmm, unfortunately it seems **not**. <br>\n",
    "Let's check where this mismatch is happening."
   ]
  },
  {
   "cell_type": "code",
   "execution_count": 37,
   "id": "ff7f178e",
   "metadata": {},
   "outputs": [
    {
     "data": {
      "text/plain": [
       "avg         NaN\n",
       "max        5.68\n",
       "min        5.32\n",
       "q_avg       NaN\n",
       "q_max    100.00\n",
       "q_min    100.00\n",
       "Name: 2020-03-21 17:01:40, dtype: float64"
      ]
     },
     "execution_count": 37,
     "metadata": {},
     "output_type": "execute_result"
    }
   ],
   "source": [
    "# Find the index numbers where the quality of the average value is not equal to the quality of the minimum one\n",
    "mismatches = np.where(dfs['0001_PI'].q_min != dfs['0001_PI'].q_avg)[0]\n",
    "\n",
    "# Display the row values where this is happening\n",
    "dfs['0001_PI'].iloc[mismatches[0]]"
   ]
  },
  {
   "cell_type": "markdown",
   "id": "a93208b7",
   "metadata": {},
   "source": [
    "Okay, strangely enough, there seem to be `NaNs` present in the average columns which are not reflected in the `max` and `min` ones.<br>\n",
    "Maybe we need a clarification if there is some minimum number of measurements required to generate an average measurement."
   ]
  },
  {
   "cell_type": "code",
   "execution_count": null,
   "id": "50ca0e37",
   "metadata": {},
   "outputs": [],
   "source": []
  }
 ],
 "metadata": {
  "kernelspec": {
   "display_name": "Python 3",
   "language": "python",
   "name": "python3"
  },
  "language_info": {
   "codemirror_mode": {
    "name": "ipython",
    "version": 3
   },
   "file_extension": ".py",
   "mimetype": "text/x-python",
   "name": "python",
   "nbconvert_exporter": "python",
   "pygments_lexer": "ipython3",
   "version": "3.7.7"
  }
 },
 "nbformat": 4,
 "nbformat_minor": 5
}
