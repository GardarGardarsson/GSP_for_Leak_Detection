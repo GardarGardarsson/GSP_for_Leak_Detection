{
 "cells": [
  {
   "cell_type": "code",
   "execution_count": 2,
   "id": "dcd92fb6",
   "metadata": {},
   "outputs": [],
   "source": [
    "import fiona\n",
    "import geopandas\n",
    "import matplotlib.pyplot as plt\n",
    "import networkx as nx\n",
    "from s2g import ShapeGraph"
   ]
  },
  {
   "cell_type": "code",
   "execution_count": null,
   "id": "b33489b0",
   "metadata": {},
   "outputs": [],
   "source": [
    "sg = ShapeGraph(shapefile='./graph_data/alftanes_shp/Export_Output.shp', to_graph=True)#, coord_type='lonlat')\n",
    "assert isinstance(sg.graph, nx.Graph)"
   ]
  },
  {
   "cell_type": "code",
   "execution_count": null,
   "id": "b3239ed2",
   "metadata": {},
   "outputs": [],
   "source": []
  }
 ],
 "metadata": {
  "kernelspec": {
   "display_name": "Python 3",
   "language": "python",
   "name": "python3"
  },
  "language_info": {
   "codemirror_mode": {
    "name": "ipython",
    "version": 3
   },
   "file_extension": ".py",
   "mimetype": "text/x-python",
   "name": "python",
   "nbconvert_exporter": "python",
   "pygments_lexer": "ipython3",
   "version": "3.8.2"
  }
 },
 "nbformat": 4,
 "nbformat_minor": 5
}
